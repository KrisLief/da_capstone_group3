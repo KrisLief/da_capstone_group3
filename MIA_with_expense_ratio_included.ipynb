{
 "cells": [
  {
   "cell_type": "code",
   "execution_count": 15,
   "metadata": {},
   "outputs": [],
   "source": [
    "import pandas as pd\n",
    "import numpy as np\n",
    "import statsmodels.api as sm\n",
    "from statsmodels.tsa.stattools import adfuller\n",
    "import matplotlib.pyplot as plt"
   ]
  },
  {
   "cell_type": "code",
   "execution_count": 16,
   "metadata": {},
   "outputs": [],
   "source": [
    "from sql_functions import get_dataframe"
   ]
  },
  {
   "cell_type": "code",
   "execution_count": null,
   "metadata": {},
   "outputs": [],
   "source": [
    "performance_query = '''SELECT p_ten_yr,expense_ratio, ticker FROM public.etfs_lowrisk \n",
    "                        WHERE p_ten_yr IS NOT NULL\n",
    "                        --ORDER BY p_ten_yr ASC  \n",
    "                        --LIMIT 1;'''\n",
    "\n",
    "Amount_to_invest_data = get_dataframe(performance_query)\n",
    "\n",
    "Amount_to_invest_data['p_ten_yr'].describe()"
   ]
  },
  {
   "cell_type": "code",
   "execution_count": 20,
   "metadata": {},
   "outputs": [
    {
     "name": "stdout",
     "output_type": "stream",
     "text": [
      "     p_ten_yr  expense_ratio ticker  Yearly_Performance  MIA_7_142800  \\\n",
      "0       12.48           0.09    SPY              0.1248        651.90   \n",
      "1       12.54           0.03    IVV              0.1254        652.59   \n",
      "2       12.55           0.03    VOO              0.1255        652.70   \n",
      "3       11.98           0.03    VTI              0.1198        645.60   \n",
      "4       18.66           0.20    QQQ              0.1866        670.31   \n",
      "..        ...            ...    ...                 ...           ...   \n",
      "706      3.32           0.65   CHII              0.0332        314.25   \n",
      "707      0.97           0.29   EEMO              0.0097        107.80   \n",
      "708      6.00           0.68   KFYP              0.0600        474.77   \n",
      "709      4.66           0.65   CHIM              0.0466        403.07   \n",
      "710    -12.10           0.08   ERUS             -0.1210      -3551.57   \n",
      "\n",
      "     MIA_12_142800  MIA_17_142800  MIA_22_142800  MIA_27_142800  \\\n",
      "0           362.04         201.05         111.63          61.96   \n",
      "1           361.46         200.19         110.86          61.37   \n",
      "2           361.36         200.05         110.73          61.27   \n",
      "3           366.62         208.18         118.20          67.09   \n",
      "4           284.89         121.06          51.41          21.81   \n",
      "..             ...            ...            ...            ...   \n",
      "706         266.89         226.67         192.50         163.49   \n",
      "707         102.72          97.88          93.26          88.86   \n",
      "708         354.75         265.07         198.06         147.98   \n",
      "709         320.96         255.58         203.51         162.04   \n",
      "710       -6768.17      -12898.06      -24579.81      -46841.79   \n",
      "\n",
      "     MIA_32_142800  MIA_37_142800  \n",
      "0            34.38          19.06  \n",
      "1            33.96          18.77  \n",
      "2            33.89          18.73  \n",
      "3            38.07          21.58  \n",
      "4             9.22           3.87  \n",
      "..             ...            ...  \n",
      "706         138.84         117.91  \n",
      "707          84.67          80.68  \n",
      "708         110.56          82.59  \n",
      "709         129.02         102.73  \n",
      "710      -89266.55     -170115.61  \n",
      "\n",
      "[711 rows x 11 columns]\n"
     ]
    }
   ],
   "source": [
    "net_amount = 142800\n",
    "#num_years = 30\n",
    "performance_query = '''SELECT p_ten_yr, expense_ratio, ticker FROM public.etfs_lowrisk \n",
    "                        WHERE p_ten_yr IS NOT NULL\n",
    "                        --ORDER BY p_ten_yr ASC  \n",
    "                        --LIMIT 1;'''\n",
    "\n",
    "Amount_to_invest_data = get_dataframe(performance_query)\n",
    "\n",
    "#annual to monthly performance\n",
    "Amount_to_invest_data['Yearly_Performance'] = Amount_to_invest_data['p_ten_yr']/100\n",
    "\n",
    "for num in range(7,38,5):\n",
    "    # number of months (30 years * 12 months)\n",
    "    #num_months = num * 12\n",
    "    monthly_amounts=[]\n",
    "    yearly_expense_amount = 0\n",
    "    for index, row in Amount_to_invest_data.iterrows():\n",
    "        yearly_amount = future_value *row['Yearly_Performance'].astype(float) / ((1 + row['Yearly_Performance'].astype(float))) ** num - 1\n",
    "        yearly_expense_amount += yearly_amount * row['expense_ratio'].astype(float)\n",
    "        total_monthly_expense_amount = yearly_expense_amount/12 + yearly_amount /12\n",
    "\n",
    "        \n",
    "        monthly_amounts.append(total_monthly_expense_amount)\n",
    "    col_name = 'MIA_' + str(num) + '_' + str(future_value)\n",
    "    Amount_to_invest_data[col_name] = monthly_amounts\n",
    "    Amount_to_invest_data[col_name] = Amount_to_invest_data[col_name].round(2)\n",
    "print(Amount_to_invest_data)"
   ]
  },
  {
   "cell_type": "code",
   "execution_count": null,
   "metadata": {},
   "outputs": [],
   "source": [
    "future_value = 142800\n",
    "# num_years = 30\n",
    "performance_query = '''SELECT p_ten_yr, expense_ratio, ticker FROM public.etfs_lowrisk \n",
    "                        WHERE p_ten_yr IS NOT NULL\n",
    "                        --ORDER BY p_ten_yr ASC  \n",
    "                        LIMIT 1;'''\n",
    "\n",
    "Amount_to_invest_data = get_dataframe(performance_query)\n",
    "\n",
    "# annual to monthly performance\n",
    "Amount_to_invest_data['Yearly_Performance'] = Amount_to_invest_data['p_ten_yr'] / 100\n",
    "yearly_expense_amount = 0\n",
    "for num in range(7, 38, 5):\n",
    "    # number of months (30 years * 12 months)\n",
    "    # num_months = num * 12\n",
    "    monthly_amounts = []\n",
    "    \n",
    "    \n",
    "    for row in Amount_to_invest_data.itertuples(index=False):\n",
    "        print(yearly_amount)\n",
    "        print(yearly_expense_amount)\n",
    "        yearly_amount = future_value * row.Yearly_Performance / ((1 + row.Yearly_Performance) ** num - 1)\n",
    "        yearly_expense_amount += yearly_amount * row.expense_ratio\n",
    "        total_monthly_expense_amount = yearly_expense_amount / 12 + yearly_amount / 12\n",
    "        monthly_amounts.append(total_monthly_expense_amount)\n",
    "    \n",
    "    col_name = 'MIA_' + str(num) + '_' + str(future_value)\n",
    "    Amount_to_invest_data[col_name] = monthly_amounts\n",
    "    Amount_to_invest_data[col_name] = Amount_to_invest_data[col_name].round(2)\n",
    "    \n",
    "print(Amount_to_invest_data)\n",
    "\n"
   ]
  },
  {
   "cell_type": "code",
   "execution_count": null,
   "metadata": {},
   "outputs": [],
   "source": []
  },
  {
   "cell_type": "code",
   "execution_count": null,
   "metadata": {},
   "outputs": [],
   "source": [
    "future_value = 142800\n",
    "#num_years = 30\n",
    "performance_query = '''SELECT p_ten_yr,expense_ratio, ticker FROM public.etfs_lowrisk \n",
    "                        WHERE p_ten_yr IS NOT NULL\n",
    "                        --ORDER BY p_ten_yr ASC  \n",
    "                        LIMIT 1;'''\n",
    "\n",
    "Amount_to_invest_data = get_dataframe(performance_query)\n",
    "\n",
    "#annual to monthly performance\n",
    "Amount_to_invest_data['Yearly_Performance'] = Amount_to_invest_data['p_ten_yr']/100\n",
    "total_saved=0\n",
    "for num in range(7,38,5):\n",
    "    # number of months (30 years * 12 months)\n",
    "    #num_months = num * 12\n",
    "    monthly_amounts=[]\n",
    "    for index, row in Amount_to_invest_data.iterrows():\n",
    "        yearly_amount = (future_value * row['Yearly_Performance'] / ((1 + row['Yearly_Performance']) ** num - 1))\n",
    "        expense = (total_saved+yearly_amount) * row['expense_ratio']\n",
    "        total_saved += yearly_amount - expense\n",
    "        monthly_amounts.append(total_saved)\n",
    "        \n",
    "    col_name = 'MIA_' + str(num) + '_' + str(future_value)\n",
    "    Amount_to_invest_data[col_name] = monthly_amounts\n",
    "    Amount_to_invest_data[col_name] = Amount_to_invest_data[col_name].round(2)\n",
    "print(Amount_to_invest_data)"
   ]
  },
  {
   "cell_type": "code",
   "execution_count": null,
   "metadata": {},
   "outputs": [],
   "source": [
    "def calculate_monthly_investment(end_return, annual_growth_rate, investment_period_years):\n",
    "    # Convert annual growth rate to monthly growth rate\n",
    "    monthly_growth_rate = (1 + annual_growth_rate) ** (1 / 12) - 1\n",
    "\n",
    "    # Calculate the total number of periods (months)\n",
    "    total_periods = investment_period_years * 12\n",
    "\n",
    "    # Use the future value formula to calculate the monthly investment\n",
    "    monthly_investment = end_return * monthly_growth_rate / ((1 + monthly_growth_rate) ** total_periods - 1)\n",
    "\n",
    "    return monthly_investment\n",
    "\n",
    "# Input values\n",
    "desired_end_return = 142800\n",
    "annual_growth_rate_etf = 0.1248\n",
    "investment_period_years = 7\n",
    "\n",
    "# Calculate and print the result\n",
    "monthly_investment_required = calculate_monthly_investment(desired_end_return, annual_growth_rate_etf, investment_period_years)\n",
    "print(f\"To achieve an end return of ${desired_end_return:.2f} after {investment_period_years} years, you need to invest approximately ${monthly_investment_required:.2f} per month.\")\n"
   ]
  },
  {
   "cell_type": "code",
   "execution_count": null,
   "metadata": {},
   "outputs": [],
   "source": [
    "net_amount = (yearly_payment * interest_ratio) - (yearly_payment * interest_ratio * expense_ratio)\n",
    "net_amount = ((yearly_payment + net_amount) * interest_ratio) - ((yearly_payment + net_amount) * interest_ratio * expense_ratio)"
   ]
  },
  {
   "cell_type": "code",
   "execution_count": null,
   "metadata": {},
   "outputs": [],
   "source": [
    "import numpy_financial as npf"
   ]
  },
  {
   "cell_type": "code",
   "execution_count": null,
   "metadata": {},
   "outputs": [],
   "source": [
    "npf.pmt(0.1248/12,12*7,0,fv=142800,when='start') - npf.pmt(0.09*0.1248/12, 12*7, 0, fv=142800, when='end')\n"
   ]
  },
  {
   "cell_type": "code",
   "execution_count": null,
   "metadata": {},
   "outputs": [],
   "source": [
    "npf.pmt(0.1248/12, 12*7 , 0, fv=142800, when= 'start') "
   ]
  },
  {
   "cell_type": "code",
   "execution_count": null,
   "metadata": {},
   "outputs": [],
   "source": [
    "monthly_payment = npf.pmt((0.1248-0.09)/12, 12*7, pv=0, fv=142800, when='end').astype(int)\n",
    "monthly_payment"
   ]
  },
  {
   "cell_type": "code",
   "execution_count": 12,
   "metadata": {},
   "outputs": [],
   "source": [
    "def calculate_monthly_payment_for_savings(desired_total_savings, initial_investment, etf_performance, expense_ratio, years):\n",
    "    \"\"\"\n",
    "    Calculate the required monthly deposit to achieve a desired total savings over a given number of years.\n",
    "    \n",
    "    Parameters:\n",
    "        desired_total_savings (float): Desired total savings.\n",
    "        initial_investment (float): Initial investment amount.\n",
    "        etf_performance (float): ETF performance factor (1 + annual growth rate).\n",
    "        expense_ratio (float): Annual expense ratio of the ETF (as a decimal).\n",
    "        years (int): Number of years for the investment.\n",
    "        \n",
    "    Returns:\n",
    "        float: Required monthly deposit amount.\n",
    "    \"\"\"\n",
    "    monthly_deposit = 0.1  # Initial guess for the monthly deposit\n",
    "    epsilon = 0.01  # Tolerance for the difference between actual and desired savings\n",
    "    \n",
    "    while True:\n",
    "        total_savings = initial_investment\n",
    "        for year in range(1, years + 1):\n",
    "            total_savings = (monthly_deposit * 12 + total_savings) * etf_performance - (monthly_deposit * 12 + total_savings) * etf_performance * expense_ratio\n",
    "        \n",
    "        if abs(total_savings - desired_total_savings) < epsilon:\n",
    "            break\n",
    "        \n",
    "        # Adjust the monthly deposit based on the difference between actual and desired savings\n",
    "        monthly_deposit += (desired_total_savings - total_savings) / (12 * years * etf_performance)\n",
    "    \n",
    "    return monthly_deposit\n",
    "\n",
    "\n",
    "\n",
    "\n",
    "\n",
    "\n"
   ]
  },
  {
   "cell_type": "code",
   "execution_count": 13,
   "metadata": {},
   "outputs": [
    {
     "name": "stdout",
     "output_type": "stream",
     "text": [
      "Required monthly deposit to achieve $142800.00 in 7 years: $1547.07\n"
     ]
    }
   ],
   "source": [
    "desired_total_savings = 142800  # Desired total savings\n",
    "initial_investment = 0  # Initial investment amount\n",
    "etf_performance = 1.1248  # ETF performance factor (1 + annual growth rate)\n",
    "expense_ratio = 0.09  # 1% annual expense ratio\n",
    "years = 7  # Number of years\n",
    "monthly_deposit = calculate_monthly_payment_for_savings(desired_total_savings, initial_investment, etf_performance, expense_ratio, years)\n",
    "print(f\"Required monthly deposit to achieve ${desired_total_savings:.2f} in {years} years: ${monthly_deposit:.2f}\")"
   ]
  },
  {
   "cell_type": "code",
   "execution_count": 6,
   "metadata": {},
   "outputs": [
    {
     "data": {
      "text/plain": [
       "151540.50240000003"
      ]
     },
     "execution_count": 6,
     "metadata": {},
     "output_type": "execute_result"
    }
   ],
   "source": [
    "142800*1.02 ** 3"
   ]
  },
  {
   "cell_type": "code",
   "execution_count": 28,
   "metadata": {},
   "outputs": [
    {
     "data": {
      "text/plain": [
       "8236.370626682037"
      ]
     },
     "execution_count": 28,
     "metadata": {},
     "output_type": "execute_result"
    }
   ],
   "source": [
    "142800-134563.62937331796"
   ]
  },
  {
   "cell_type": "code",
   "execution_count": 7,
   "metadata": {},
   "outputs": [
    {
     "data": {
      "text/plain": [
       "230.02999999999997"
      ]
     },
     "execution_count": 7,
     "metadata": {},
     "output_type": "execute_result"
    }
   ],
   "source": [
    "1777.10-1547.07"
   ]
  },
  {
   "cell_type": "code",
   "execution_count": 10,
   "metadata": {},
   "outputs": [
    {
     "data": {
      "text/plain": [
       "523.9762871254966"
      ]
     },
     "execution_count": 10,
     "metadata": {},
     "output_type": "execute_result"
    }
   ],
   "source": [
    "230.03 * 1.1248 ** 7\n"
   ]
  },
  {
   "cell_type": "code",
   "execution_count": 3,
   "metadata": {},
   "outputs": [],
   "source": [
    "def calculate_monthly_payment_for_savings(desired_total_savings, initial_investment, etf_performance, expense_ratio, years,inflation_rate):\n",
    "    \"\"\"\n",
    "    Calculate the required monthly deposit to achieve a desired total savings over a given number of years.\n",
    "    \n",
    "    Parameters:\n",
    "        desired_total_savings (float): Desired total savings.\n",
    "        initial_investment (float): Initial investment amount.\n",
    "        etf_performance (float): ETF performance factor (1 + annual growth rate).\n",
    "        expense_ratio (float): Annual expense ratio of the ETF (as a decimal).\n",
    "        years (int): Number of years for the investment.\n",
    "        \n",
    "    Returns:\n",
    "        float: Required monthly deposit amount.\n",
    "    \"\"\"\n",
    "    monthly_deposit = 0.1  # Initial guess for the monthly deposit\n",
    "    epsilon = 0.01  # Tolerance for the difference between actual and desired savings\n",
    "    desired_total_savings_inflation = desired_total_savings * inflation_rate ** years\n",
    "    while True:\n",
    "        total_savings = initial_investment\n",
    "        for year in range(1, years + 1):\n",
    "            total_savings = (monthly_deposit * 12 + total_savings) * etf_performance - (monthly_deposit * 12 + total_savings) * etf_performance * expense_ratio\n",
    "        \n",
    "        if abs(total_savings - desired_total_savings_inflation) < epsilon:\n",
    "            break\n",
    "        \n",
    "        # Adjust the monthly deposit based on the difference between actual and desired savings\n",
    "        monthly_deposit += (desired_total_savings_inflation - total_savings) / (12 * years * etf_performance)\n",
    "    \n",
    "    return monthly_deposit\n"
   ]
  },
  {
   "cell_type": "code",
   "execution_count": 4,
   "metadata": {},
   "outputs": [
    {
     "name": "stdout",
     "output_type": "stream",
     "text": [
      "Required monthly deposit to achieve $142800.00 in 7 years: $1777.10\n"
     ]
    }
   ],
   "source": [
    "desired_total_savings = 142800  # Desired total savings\n",
    "initial_investment = 0  # Initial investment amount\n",
    "etf_performance = 1.1248  # ETF performance factor (1 + annual growth rate)\n",
    "expense_ratio = 0.09  # 1% annual expense ratio\n",
    "years = 7  # Number of years\n",
    "inflation_rate = 1.02\n",
    "monthly_deposit = calculate_monthly_payment_for_savings(desired_total_savings, initial_investment, etf_performance, expense_ratio, years,inflation_rate)\n",
    "print(f\"Required monthly deposit to achieve ${desired_total_savings:.2f} in {years} years: ${monthly_deposit:.2f}\")"
   ]
  },
  {
   "cell_type": "code",
   "execution_count": 5,
   "metadata": {},
   "outputs": [
    {
     "data": {
      "text/plain": [
       "230.02999999999997"
      ]
     },
     "execution_count": 5,
     "metadata": {},
     "output_type": "execute_result"
    }
   ],
   "source": [
    "1777.10-1547.07"
   ]
  },
  {
   "cell_type": "code",
   "execution_count": 21,
   "metadata": {},
   "outputs": [
    {
     "data": {
      "text/plain": [
       "18564.84"
      ]
     },
     "execution_count": 21,
     "metadata": {},
     "output_type": "execute_result"
    }
   ],
   "source": [
    "1547.07*12\n"
   ]
  },
  {
   "cell_type": "code",
   "execution_count": null,
   "metadata": {},
   "outputs": [],
   "source": [
    "performance_query = '''SELECT p_ten_yr,expense_ratio, ticker FROM public.etfs_lowrisk \n",
    "                        WHERE p_ten_yr IS NOT NULL\n",
    "                        --ORDER BY p_ten_yr ASC  \n",
    "                        LIMIT 1;'''\n",
    "\n",
    "Amount_to_invest_data = get_dataframe(performance_query)\n",
    "\n",
    "def calculate_monthly_payment_for_savings(desired_total_savings, initial_investment, etf_performance, expense_ratio, years,inflation_rate):\n",
    "    \"\"\"\n",
    "    Calculate the required monthly deposit to achieve a desired total savings over a given number of years.\n",
    "    \n",
    "    Parameters:\n",
    "        desired_total_savings (float): Desired total savings.\n",
    "        initial_investment (float): Initial investment amount.\n",
    "        etf_performance (float): ETF performance factor (1 + annual growth rate).\n",
    "        expense_ratio (float): Annual expense ratio of the ETF (as a decimal).\n",
    "        years (int): Number of years for the investment.\n",
    "        \n",
    "    Returns:\n",
    "        float: Required monthly deposit amount.\n",
    "    \"\"\"\n",
    "    monthly_deposit = 0.1  # Initial guess for the monthly deposit\n",
    "    epsilon = 0.01  # Tolerance for the difference between actual and desired savings\n",
    "    desired_total_savings_inflation = desired_total_savings * inflation_rate ** years\n",
    "    while True:\n",
    "        total_savings = initial_investment\n",
    "        for year in range(1, years + 1):\n",
    "            total_savings = (monthly_deposit * 12 + total_savings) * etf_performance - (monthly_deposit * 12 + total_savings) * etf_performance * expense_ratio\n",
    "        \n",
    "        if abs(total_savings - desired_total_savings_inflation) < epsilon:\n",
    "            break\n",
    "        \n",
    "        # Adjust the monthly deposit based on the difference between actual and desired savings\n",
    "        monthly_deposit += (desired_total_savings_inflation - total_savings) / (12 * years * etf_performance)\n",
    "    \n",
    "    return monthly_deposit\n"
   ]
  }
 ],
 "metadata": {
  "kernelspec": {
   "display_name": "nf_sql",
   "language": "python",
   "name": "python3"
  },
  "language_info": {
   "codemirror_mode": {
    "name": "ipython",
    "version": 3
   },
   "file_extension": ".py",
   "mimetype": "text/x-python",
   "name": "python",
   "nbconvert_exporter": "python",
   "pygments_lexer": "ipython3",
   "version": "3.9.16"
  },
  "orig_nbformat": 4
 },
 "nbformat": 4,
 "nbformat_minor": 2
}
