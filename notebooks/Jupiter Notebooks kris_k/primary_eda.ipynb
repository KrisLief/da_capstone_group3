{
 "cells": [
  {
   "cell_type": "code",
   "execution_count": null,
   "metadata": {},
   "outputs": [],
   "source": [
    "import pandas as pd\n",
    "import numpy as np\n",
    "import matplotlib as mpl\n",
    "import statsmodels\n",
    "\n",
    "import dotenv\n",
    "import sqlalchemy\n",
    "import psycopg2\n",
    "import sql_functions \n",
    "\n",
    "from sql_functions import get_engine\n",
    "from sql_functions import get_dataframe"
   ]
  },
  {
   "cell_type": "code",
   "execution_count": null,
   "metadata": {},
   "outputs": [],
   "source": [
    "get_engine()"
   ]
  },
  {
   "cell_type": "code",
   "execution_count": null,
   "metadata": {},
   "outputs": [],
   "source": [
    "# import esg data from sql-server\n",
    "\n",
    "engine = get_engine() \n",
    "table_name = 'df_esg_etf'\n",
    "schema = 'public' \n",
    "\n",
    "df_esg = get_dataframe(f'''SELECT ticker, \n",
    "                                  fund_name, \n",
    "                                  esg_rating, \n",
    "                                  quality_score, \n",
    "                                  score_peer_rank, \n",
    "                                  score_global_rank, \n",
    "                                  carbon_intensity, \n",
    "                                  sustainable_impact_exposure \n",
    "                         FROM {schema}.{table_name};''')\n",
    "\n",
    "df_esg.head()"
   ]
  },
  {
   "cell_type": "code",
   "execution_count": null,
   "metadata": {},
   "outputs": [],
   "source": [
    "\n",
    "table_name = 'df_performance_etf'\n",
    "schema = 'public' \n",
    "\n",
    "\n",
    "df_performance = get_dataframe(f'''SELECT ticker, \n",
    "                                          ytd , \n",
    "                                          one_yr,\n",
    "                                          three_yr \n",
    "                                    FROM {schema}.{table_name};''')\n",
    "\n",
    "df_performance.head()"
   ]
  },
  {
   "cell_type": "code",
   "execution_count": null,
   "metadata": {},
   "outputs": [],
   "source": [
    "\n",
    "table_name = 'df_dividend_etf'\n",
    "schema = 'public' \n",
    "\n",
    "\n",
    "df_dividend = get_dataframe(f'''SELECT ticker, \n",
    "                                dividend_yield \n",
    "                                FROM {schema}.{table_name};''')\n",
    "\n",
    "df_dividend.head()"
   ]
  },
  {
   "cell_type": "code",
   "execution_count": null,
   "metadata": {},
   "outputs": [],
   "source": [
    "\n",
    "table_name = 'df_analysis_etf'\n",
    "schema = 'public' \n",
    "\n",
    "\n",
    "df_analysis = get_dataframe(f'''SELECT ticker,\n",
    "                                analyst_pick,\n",
    "                                grade,\n",
    "                                efficiency,\n",
    "                                tradability,\t \n",
    "                                fit \n",
    "                                FROM {schema}.{table_name};''')\n",
    "\n",
    "df_analysis.head()"
   ]
  },
  {
   "cell_type": "code",
   "execution_count": null,
   "metadata": {},
   "outputs": [],
   "source": [
    "\n",
    "table_name = 'df_basics_etf'\n",
    "schema = 'public' \n",
    "\n",
    "\n",
    "df_basics = get_dataframe(f'''SELECT ticker,\n",
    "                                     fund_name,\t\n",
    "                                     segment,\n",
    "                            \t       one_yr_return,\t\n",
    "                                     expense_ratio,\t\n",
    "                                     aum\n",
    "                              FROM {schema}.{table_name};''')\n",
    "\n",
    "df_basics.head()"
   ]
  },
  {
   "cell_type": "code",
   "execution_count": null,
   "metadata": {},
   "outputs": [],
   "source": [
    "etf_ticker = df_dividend.ticker"
   ]
  },
  {
   "cell_type": "code",
   "execution_count": null,
   "metadata": {},
   "outputs": [],
   "source": [
    "etf_ticker"
   ]
  },
  {
   "cell_type": "code",
   "execution_count": null,
   "metadata": {},
   "outputs": [],
   "source": [
    "import yfinance as yf"
   ]
  },
  {
   "cell_type": "markdown",
   "metadata": {},
   "source": []
  },
  {
   "cell_type": "code",
   "execution_count": null,
   "metadata": {},
   "outputs": [],
   "source": [
    "def yf_ticker():\n",
    "    ticker = yf.Ticker('ticker')\n",
    "    yf_ticker = []\n",
    "    for i in etf_ticker:\n",
    "        yf_ticker.append(yf_ticker)\n",
    "    return yf_ticker  "
   ]
  },
  {
   "cell_type": "code",
   "execution_count": null,
   "metadata": {},
   "outputs": [],
   "source": [
    "yf_ticker()\n"
   ]
  }
 ],
 "metadata": {
  "kernelspec": {
   "display_name": "sql_env",
   "language": "python",
   "name": "python3"
  },
  "language_info": {
   "codemirror_mode": {
    "name": "ipython",
    "version": 3
   },
   "file_extension": ".py",
   "mimetype": "text/x-python",
   "name": "python",
   "nbconvert_exporter": "python",
   "pygments_lexer": "ipython3",
   "version": "3.10.12"
  },
  "orig_nbformat": 4
 },
 "nbformat": 4,
 "nbformat_minor": 2
}
