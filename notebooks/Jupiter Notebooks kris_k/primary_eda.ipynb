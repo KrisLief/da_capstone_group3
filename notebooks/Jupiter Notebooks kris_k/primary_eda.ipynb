{
 "cells": [
  {
   "cell_type": "code",
   "execution_count": 2,
   "metadata": {},
   "outputs": [],
   "source": [
    "import pandas as pd\n",
    "import numpy as np\n",
    "import matplotlib as mpl\n",
    "import statsmodels\n",
    "\n",
    "\n"
   ]
  },
  {
   "cell_type": "code",
   "execution_count": 3,
   "metadata": {},
   "outputs": [],
   "source": [
    "esg_data = pd.read_parquet('/Users/kk/Desktop/etf_addendum/df_esg_etf.parquet')\n",
    "basics_data =pd.read_parquet('/Users/kk/Desktop/etf_addendum/df_basics_etf.parquet')\n",
    "analysis_data = pd.read_parquet('/Users/kk/Desktop/etf_addendum/df_analysis_etf.parquet')\n",
    "dividend_data = pd.read_parquet('/Users/kk/Desktop/etf_addendum/df_dividend_etf.parquet')\n",
    "fundflow_data = pd.read_parquet('/Users/kk/Desktop/etf_addendum/df_fundflow_etf.parquet')\n",
    "performance_data = pd.read_parquet('/Users/kk/Desktop/etf_addendum/df_performance_etf.parquet')\n"
   ]
  },
  {
   "cell_type": "code",
   "execution_count": 13,
   "metadata": {},
   "outputs": [
    {
     "ename": "NameError",
     "evalue": "name 'ticker' is not defined",
     "output_type": "error",
     "traceback": [
      "\u001b[0;31m---------------------------------------------------------------------------\u001b[0m",
      "\u001b[0;31mNameError\u001b[0m                                 Traceback (most recent call last)",
      "Cell \u001b[0;32mIn[13], line 14\u001b[0m\n\u001b[1;32m     10\u001b[0m     \u001b[39mreturn\u001b[39;00m ls\n\u001b[1;32m     12\u001b[0m df\u001b[39m=\u001b[39mperformance_data\n\u001b[0;32m---> 14\u001b[0m p_mean[ticker, df\u001b[39m.\u001b[39mmean[ticker]]\n\u001b[1;32m     16\u001b[0m p_mean\u001b[39m.\u001b[39mhead()\n",
      "\u001b[0;31mNameError\u001b[0m: name 'ticker' is not defined"
     ]
    }
   ],
   "source": [
    "\n",
    "\n",
    "p_list = [df['one_mo_p_percent'], df['three_mo_p_percent'], df['ytd_p_percent'], df['one_yr_p_percent'], df['three_yr_p_percent'], df['five_yr_p_percent'], df['ten_yr_p_percent'], df['as_of_date_p']]\n",
    "\n",
    "df_p = pd.concat(p_list, axis=1).reset_index(drop=True)\n",
    "\n",
    "def p_mean(df):\n",
    "    ls = []\n",
    "    df.mean = pd.concat([], axis=1).mean()\n",
    "    for ticker in df.mean:\n",
    "        ls.append(df.mean[ticker])\n",
    "    return ls\n",
    "\n",
    "df=performance_data\n",
    "\n",
    "p_mean[ticker, df.mean[ticker]]\n",
    "\n",
    "p_mean.head()\n"
   ]
  },
  {
   "cell_type": "code",
   "execution_count": 11,
   "metadata": {},
   "outputs": [
    {
     "data": {
      "text/html": [
       "<div>\n",
       "<style scoped>\n",
       "    .dataframe tbody tr th:only-of-type {\n",
       "        vertical-align: middle;\n",
       "    }\n",
       "\n",
       "    .dataframe tbody tr th {\n",
       "        vertical-align: top;\n",
       "    }\n",
       "\n",
       "    .dataframe thead th {\n",
       "        text-align: right;\n",
       "    }\n",
       "</style>\n",
       "<table border=\"1\" class=\"dataframe\">\n",
       "  <thead>\n",
       "    <tr style=\"text-align: right;\">\n",
       "      <th></th>\n",
       "      <th>one_mo_p_percent</th>\n",
       "      <th>three_mo_p_percent</th>\n",
       "      <th>ytd_p_percent</th>\n",
       "      <th>one_yr_p_percent</th>\n",
       "      <th>three_yr_p_percent</th>\n",
       "      <th>five_yr_p_percent</th>\n",
       "      <th>ten_yr_p_percent</th>\n",
       "      <th>as_of_date_p</th>\n",
       "    </tr>\n",
       "  </thead>\n",
       "  <tbody>\n",
       "    <tr>\n",
       "      <th>0</th>\n",
       "      <td>5.13</td>\n",
       "      <td>12.57</td>\n",
       "      <td>20.00</td>\n",
       "      <td>17.03</td>\n",
       "      <td>14.09</td>\n",
       "      <td>11.79</td>\n",
       "      <td>12.48</td>\n",
       "      <td>2023-07-25</td>\n",
       "    </tr>\n",
       "    <tr>\n",
       "      <th>1</th>\n",
       "      <td>5.14</td>\n",
       "      <td>12.61</td>\n",
       "      <td>20.04</td>\n",
       "      <td>17.08</td>\n",
       "      <td>14.15</td>\n",
       "      <td>11.82</td>\n",
       "      <td>12.54</td>\n",
       "      <td>2023-07-25</td>\n",
       "    </tr>\n",
       "    <tr>\n",
       "      <th>2</th>\n",
       "      <td>5.15</td>\n",
       "      <td>12.62</td>\n",
       "      <td>20.09</td>\n",
       "      <td>17.09</td>\n",
       "      <td>14.15</td>\n",
       "      <td>11.82</td>\n",
       "      <td>12.55</td>\n",
       "      <td>2023-07-25</td>\n",
       "    </tr>\n",
       "    <tr>\n",
       "      <th>3</th>\n",
       "      <td>5.56</td>\n",
       "      <td>12.94</td>\n",
       "      <td>19.61</td>\n",
       "      <td>16.46</td>\n",
       "      <td>13.42</td>\n",
       "      <td>10.98</td>\n",
       "      <td>11.98</td>\n",
       "      <td>2023-07-25</td>\n",
       "    </tr>\n",
       "    <tr>\n",
       "      <th>4</th>\n",
       "      <td>4.48</td>\n",
       "      <td>22.36</td>\n",
       "      <td>42.66</td>\n",
       "      <td>27.05</td>\n",
       "      <td>14.71</td>\n",
       "      <td>16.50</td>\n",
       "      <td>18.66</td>\n",
       "      <td>2023-07-25</td>\n",
       "    </tr>\n",
       "    <tr>\n",
       "      <th>...</th>\n",
       "      <td>...</td>\n",
       "      <td>...</td>\n",
       "      <td>...</td>\n",
       "      <td>...</td>\n",
       "      <td>...</td>\n",
       "      <td>...</td>\n",
       "      <td>...</td>\n",
       "      <td>...</td>\n",
       "    </tr>\n",
       "    <tr>\n",
       "      <th>3163</th>\n",
       "      <td>NaN</td>\n",
       "      <td>NaN</td>\n",
       "      <td>NaN</td>\n",
       "      <td>NaN</td>\n",
       "      <td>NaN</td>\n",
       "      <td>NaN</td>\n",
       "      <td>NaN</td>\n",
       "      <td>2023-07-25</td>\n",
       "    </tr>\n",
       "    <tr>\n",
       "      <th>3164</th>\n",
       "      <td>-17.10</td>\n",
       "      <td>-58.45</td>\n",
       "      <td>-74.30</td>\n",
       "      <td>NaN</td>\n",
       "      <td>NaN</td>\n",
       "      <td>NaN</td>\n",
       "      <td>NaN</td>\n",
       "      <td>2023-07-25</td>\n",
       "    </tr>\n",
       "    <tr>\n",
       "      <th>3165</th>\n",
       "      <td>NaN</td>\n",
       "      <td>NaN</td>\n",
       "      <td>NaN</td>\n",
       "      <td>NaN</td>\n",
       "      <td>-24.56</td>\n",
       "      <td>-13.17</td>\n",
       "      <td>NaN</td>\n",
       "      <td>2023-07-24</td>\n",
       "    </tr>\n",
       "    <tr>\n",
       "      <th>3166</th>\n",
       "      <td>4.45</td>\n",
       "      <td>7.88</td>\n",
       "      <td>NaN</td>\n",
       "      <td>NaN</td>\n",
       "      <td>NaN</td>\n",
       "      <td>NaN</td>\n",
       "      <td>NaN</td>\n",
       "      <td>2023-07-25</td>\n",
       "    </tr>\n",
       "    <tr>\n",
       "      <th>3167</th>\n",
       "      <td>3.14</td>\n",
       "      <td>4.65</td>\n",
       "      <td>NaN</td>\n",
       "      <td>NaN</td>\n",
       "      <td>NaN</td>\n",
       "      <td>NaN</td>\n",
       "      <td>NaN</td>\n",
       "      <td>2023-07-25</td>\n",
       "    </tr>\n",
       "  </tbody>\n",
       "</table>\n",
       "<p>3168 rows × 8 columns</p>\n",
       "</div>"
      ],
      "text/plain": [
       "      one_mo_p_percent  three_mo_p_percent  ytd_p_percent  one_yr_p_percent  \\\n",
       "0                 5.13               12.57          20.00             17.03   \n",
       "1                 5.14               12.61          20.04             17.08   \n",
       "2                 5.15               12.62          20.09             17.09   \n",
       "3                 5.56               12.94          19.61             16.46   \n",
       "4                 4.48               22.36          42.66             27.05   \n",
       "...                ...                 ...            ...               ...   \n",
       "3163               NaN                 NaN            NaN               NaN   \n",
       "3164            -17.10              -58.45         -74.30               NaN   \n",
       "3165               NaN                 NaN            NaN               NaN   \n",
       "3166              4.45                7.88            NaN               NaN   \n",
       "3167              3.14                4.65            NaN               NaN   \n",
       "\n",
       "      three_yr_p_percent  five_yr_p_percent  ten_yr_p_percent as_of_date_p  \n",
       "0                  14.09              11.79             12.48   2023-07-25  \n",
       "1                  14.15              11.82             12.54   2023-07-25  \n",
       "2                  14.15              11.82             12.55   2023-07-25  \n",
       "3                  13.42              10.98             11.98   2023-07-25  \n",
       "4                  14.71              16.50             18.66   2023-07-25  \n",
       "...                  ...                ...               ...          ...  \n",
       "3163                 NaN                NaN               NaN   2023-07-25  \n",
       "3164                 NaN                NaN               NaN   2023-07-25  \n",
       "3165              -24.56             -13.17               NaN   2023-07-24  \n",
       "3166                 NaN                NaN               NaN   2023-07-25  \n",
       "3167                 NaN                NaN               NaN   2023-07-25  \n",
       "\n",
       "[3168 rows x 8 columns]"
      ]
     },
     "execution_count": 11,
     "metadata": {},
     "output_type": "execute_result"
    }
   ],
   "source": [
    "df_mean= df[ticker, pmean[ticker]] for ticker in df.ticker"
   ]
  },
  {
   "cell_type": "code",
   "execution_count": null,
   "metadata": {},
   "outputs": [],
   "source": [
    "basics_data.aum = basics_data.aum/100\n",
    "basics_data.head()"
   ]
  },
  {
   "cell_type": "code",
   "execution_count": null,
   "metadata": {},
   "outputs": [],
   "source": [
    "analysis_data.head()"
   ]
  },
  {
   "cell_type": "code",
   "execution_count": null,
   "metadata": {},
   "outputs": [],
   "source": [
    "performance_data.head()"
   ]
  },
  {
   "cell_type": "code",
   "execution_count": null,
   "metadata": {},
   "outputs": [],
   "source": [
    "fundflow_data.head()\n"
   ]
  },
  {
   "cell_type": "code",
   "execution_count": null,
   "metadata": {},
   "outputs": [],
   "source": [
    "dividend_data.head()"
   ]
  },
  {
   "cell_type": "code",
   "execution_count": null,
   "metadata": {},
   "outputs": [],
   "source": [
    "dividend_data = dividend_data.drop('fund_name', axis=1)\n",
    "dividend_data.head()"
   ]
  },
  {
   "cell_type": "code",
   "execution_count": null,
   "metadata": {},
   "outputs": [],
   "source": [
    "basics_data.head()"
   ]
  },
  {
   "cell_type": "code",
   "execution_count": null,
   "metadata": {},
   "outputs": [],
   "source": [
    "#fundflow_data.drop('fund_name', axis=1, inplace=True)\n",
    "#analysis_data.drop('fund_name', axis=1, inplace=True)\n",
    "#performance_data.drop('fund_name', axis=1, inplace=True)\n",
    "basics_data.drop('fund_name',axis=1, inplace=True)\n",
    "basics_data.drop('segment', axis=1, inplace=True)\n",
    "\n",
    "\n"
   ]
  },
  {
   "cell_type": "code",
   "execution_count": null,
   "metadata": {},
   "outputs": [],
   "source": [
    "merged_data1 = pd.merge(basics_data, dividend_data, how='left', on='ticker')\n",
    "merged_data2 = pd.merge(merged_data1, esg_data, how='left', on='ticker')\n",
    "merged_data3 = pd.merge(merged_data2, analysis_data, how='left', on= 'ticker')\n",
    "merged_data4 = pd.merge(merged_data3, performance_data, how='left', on='ticker' )\n",
    "#merged_data5 = pd.merge(merged_data4, fundflow_data, how='left', on='ticker')\n",
    "\n",
    "\n",
    "merged_data4.head()"
   ]
  },
  {
   "cell_type": "code",
   "execution_count": null,
   "metadata": {},
   "outputs": [],
   "source": [
    "merged_data5.drop('as_of_date_p', axis=1, inplace=True)"
   ]
  },
  {
   "cell_type": "code",
   "execution_count": null,
   "metadata": {},
   "outputs": [],
   "source": [
    "\n",
    "import pyarrow as pa\n",
    "import pyarrow.parquet as pq\n",
    "\n",
    "df_merged = merged_data5\n",
    "# Convert DataFrame to Apache Arrow Table\n",
    "table = pa.Table.from_pandas(df_merged)# Convert DataFrame to Apache Arrow Table\n",
    "pq.write_table(table, '/Users/kk/Desktop/etf_addendum/df_merged_etf.parquet', compression='BROTLI')"
   ]
  },
  {
   "cell_type": "markdown",
   "metadata": {},
   "source": [
    "------------"
   ]
  },
  {
   "cell_type": "code",
   "execution_count": null,
   "metadata": {},
   "outputs": [],
   "source": [
    "import yfinance as yf"
   ]
  },
  {
   "cell_type": "markdown",
   "metadata": {},
   "source": []
  },
  {
   "cell_type": "code",
   "execution_count": null,
   "metadata": {},
   "outputs": [],
   "source": [
    "etf_ticker = df_merged.ticker"
   ]
  },
  {
   "cell_type": "code",
   "execution_count": null,
   "metadata": {},
   "outputs": [],
   "source": [
    "etf_ticker = pd.DataFrame(etf_ticker)"
   ]
  },
  {
   "cell_type": "code",
   "execution_count": null,
   "metadata": {},
   "outputs": [],
   "source": [
    "etf_ticker.head()"
   ]
  },
  {
   "cell_type": "code",
   "execution_count": null,
   "metadata": {},
   "outputs": [],
   "source": [
    "spy = yf.Ticker(SPY)"
   ]
  },
  {
   "cell_type": "code",
   "execution_count": null,
   "metadata": {},
   "outputs": [],
   "source": []
  },
  {
   "cell_type": "code",
   "execution_count": null,
   "metadata": {},
   "outputs": [],
   "source": []
  },
  {
   "cell_type": "code",
   "execution_count": null,
   "metadata": {},
   "outputs": [],
   "source": []
  },
  {
   "cell_type": "code",
   "execution_count": null,
   "metadata": {},
   "outputs": [],
   "source": [
    "yf_ticker()\n"
   ]
  },
  {
   "cell_type": "markdown",
   "metadata": {},
   "source": [
    "-------"
   ]
  },
  {
   "cell_type": "code",
   "execution_count": null,
   "metadata": {},
   "outputs": [],
   "source": [
    "df_merged.head()"
   ]
  },
  {
   "cell_type": "code",
   "execution_count": null,
   "metadata": {},
   "outputs": [],
   "source": [
    "df_gb_esg_rate = df_merged.groupby('esg_rating', '')"
   ]
  },
  {
   "cell_type": "code",
   "execution_count": null,
   "metadata": {},
   "outputs": [],
   "source": [
    "df_gb_esg_rate.count()\n"
   ]
  },
  {
   "cell_type": "code",
   "execution_count": null,
   "metadata": {},
   "outputs": [],
   "source": [
    "1341+298+6+6+70+461+1"
   ]
  },
  {
   "cell_type": "code",
   "execution_count": null,
   "metadata": {},
   "outputs": [],
   "source": [
    "3172-1341"
   ]
  },
  {
   "cell_type": "code",
   "execution_count": null,
   "metadata": {},
   "outputs": [],
   "source": [
    "df_merged.count()"
   ]
  },
  {
   "cell_type": "code",
   "execution_count": null,
   "metadata": {},
   "outputs": [],
   "source": [
    "import seaborn as sns\n",
    "from matplotlib import pyplot as plt"
   ]
  },
  {
   "cell_type": "code",
   "execution_count": null,
   "metadata": {},
   "outputs": [],
   "source": [
    "fig, ax = plt.subplots(2,3, figsize=(20,10)) # create subplots on 2 rows and 3 columns\n",
    "plt.suptitle('Distribution of numeric columns', fontsize=20)\n",
    "#fig.tight_layout() # tight_layout automatically adjusts subplot params so that the subplot(s) fits in to the figure area\n",
    "#plt.subplots_adjust(hspace = .5, wspace = .2, top = .9) # adjusts the space between the single subplots\n",
    "sns.barplot(data=df_gb_esg_rate, x= 'esg_rating', y= 'ticker')\n"
   ]
  },
  {
   "cell_type": "code",
   "execution_count": null,
   "metadata": {},
   "outputs": [],
   "source": [
    "df_merged.describe()"
   ]
  },
  {
   "cell_type": "code",
   "execution_count": null,
   "metadata": {},
   "outputs": [
    {
     "name": "stderr",
     "output_type": "stream",
     "text": [
      "/opt/homebrew/Caskroom/miniconda/base/envs/ml_env/lib/python3.11/site-packages/tqdm/auto.py:21: TqdmWarning: IProgress not found. Please update jupyter and ipywidgets. See https://ipywidgets.readthedocs.io/en/stable/user_install.html\n",
      "  from .autonotebook import tqdm as notebook_tqdm\n",
      "/opt/homebrew/Caskroom/miniconda/base/envs/ml_env/lib/python3.11/site-packages/numba/core/decorators.py:262: NumbaDeprecationWarning: \u001b[1mnumba.generated_jit is deprecated. Please see the documentation at: https://numba.readthedocs.io/en/stable/reference/deprecation.html#deprecation-of-generated-jit for more information and advice on a suitable replacement.\u001b[0m\n",
      "  warnings.warn(msg, NumbaDeprecationWarning)\n",
      "/opt/homebrew/Caskroom/miniconda/base/envs/ml_env/lib/python3.11/site-packages/visions/backends/shared/nan_handling.py:50: NumbaDeprecationWarning: \u001b[1mThe 'nopython' keyword argument was not supplied to the 'numba.jit' decorator. The implicit default value for this argument is currently False, but it will be changed to True in Numba 0.59.0. See https://numba.readthedocs.io/en/stable/reference/deprecation.html#deprecation-of-object-mode-fall-back-behaviour-when-using-jit for details.\u001b[0m\n",
      "  @nb.jit\n"
     ]
    }
   ],
   "source": [
    "import numpy as np\n",
    "import pandas as pd\n",
    "from ydata_profiling import ProfileReport\n"
   ]
  },
  {
   "cell_type": "code",
   "execution_count": null,
   "metadata": {},
   "outputs": [],
   "source": []
  },
  {
   "cell_type": "code",
   "execution_count": null,
   "metadata": {},
   "outputs": [],
   "source": [
    "profile = ProfileReport(df, title=\"Profiling Report\")"
   ]
  }
 ],
 "metadata": {
  "kernelspec": {
   "display_name": "sql_env",
   "language": "python",
   "name": "python3"
  },
  "language_info": {
   "codemirror_mode": {
    "name": "ipython",
    "version": 3
   },
   "file_extension": ".py",
   "mimetype": "text/x-python",
   "name": "python",
   "nbconvert_exporter": "python",
   "pygments_lexer": "ipython3",
   "version": "3.11.4"
  },
  "orig_nbformat": 4
 },
 "nbformat": 4,
 "nbformat_minor": 2
}
