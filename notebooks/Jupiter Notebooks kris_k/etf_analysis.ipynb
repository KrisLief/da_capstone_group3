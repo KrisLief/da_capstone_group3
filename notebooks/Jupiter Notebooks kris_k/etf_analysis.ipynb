{
 "cells": [
  {
   "cell_type": "markdown",
   "metadata": {},
   "source": [
    "# Analysis"
   ]
  },
  {
   "cell_type": "code",
   "execution_count": 1,
   "metadata": {},
   "outputs": [],
   "source": [
    "import pandas as pd\n",
    "import numpy as np\n",
    "import matplotlib as mpl\n",
    "import sqlalchemy\n",
    "import psycopg2\n",
    "import sql_functions\n",
    "from sql_functions import get_engine"
   ]
  },
  {
   "cell_type": "code",
   "execution_count": 2,
   "metadata": {},
   "outputs": [],
   "source": [
    "a=pd.read_csv('/Users/kk/Desktop/etf_addendum/analysis/screener-output-table-16-54-06-27-2023-07.csv')\n",
    "b=pd.read_csv('/Users/kk/Desktop/etf_addendum/analysis/screener-output-table-16-54-11-27-2023-07.csv')\n",
    "c=pd.read_csv('/Users/kk/Desktop/etf_addendum/analysis/screener-output-table-16-54-15-27-2023-07.csv')\n",
    "d=pd.read_csv('/Users/kk/Desktop/etf_addendum/analysis/screener-output-table-16-54-18-27-2023-07.csv')\n",
    "e=pd.read_csv('/Users/kk/Desktop/etf_addendum/analysis/screener-output-table-16-54-22-27-2023-07.csv')\n",
    "f=pd.read_csv('/Users/kk/Desktop/etf_addendum/analysis/screener-output-table-16-54-24-27-2023-07.csv')\n",
    "g=pd.read_csv('/Users/kk/Desktop/etf_addendum/analysis/screener-output-table-16-54-28-27-2023-07.csv')\n",
    "h=pd.read_csv('/Users/kk/Desktop/etf_addendum/analysis/screener-output-table-16-54-31-27-2023-07.csv')\n",
    "i=pd.read_csv('/Users/kk/Desktop/etf_addendum/analysis/screener-output-table-16-54-34-27-2023-07.csv')\n",
    "j=pd.read_csv('/Users/kk/Desktop/etf_addendum/analysis/screener-output-table-16-54-38-27-2023-07.csv')\n",
    "k=pd.read_csv('/Users/kk/Desktop/etf_addendum/analysis/screener-output-table-16-54-41-27-2023-07.csv')\n",
    "l=pd.read_csv('/Users/kk/Desktop/etf_addendum/analysis/screener-output-table-16-54-45-27-2023-07.csv')\n",
    "m=pd.read_csv('/Users/kk/Desktop/etf_addendum/analysis/screener-output-table-16-54-48-27-2023-07.csv')\n",
    "n=pd.read_csv('/Users/kk/Desktop/etf_addendum/analysis/screener-output-table-16-54-51-27-2023-07.csv')\n",
    "o=pd.read_csv('/Users/kk/Desktop/etf_addendum/analysis/screener-output-table-16-54-54-27-2023-07.csv')\n",
    "p=pd.read_csv('/Users/kk/Desktop/etf_addendum/analysis/screener-output-table-16-54-57-27-2023-07.csv')\n",
    "q=pd.read_csv('/Users/kk/Desktop/etf_addendum/analysis/screener-output-table-16-55-01-27-2023-07.csv')\n",
    "r=pd.read_csv('/Users/kk/Desktop/etf_addendum/analysis/screener-output-table-16-55-05-27-2023-07.csv')\n",
    "s=pd.read_csv('/Users/kk/Desktop/etf_addendum/analysis/screener-output-table-16-55-09-27-2023-07.csv')\n",
    "t=pd.read_csv('/Users/kk/Desktop/etf_addendum/analysis/screener-output-table-16-55-13-27-2023-07.csv')\n",
    "u=pd.read_csv('/Users/kk/Desktop/etf_addendum/analysis/screener-output-table-16-55-16-27-2023-07.csv')\n",
    "v=pd.read_csv('/Users/kk/Desktop/etf_addendum/analysis/screener-output-table-16-55-19-27-2023-07.csv')\n",
    "w=pd.read_csv('/Users/kk/Desktop/etf_addendum/analysis/screener-output-table-16-55-23-27-2023-07.csv')\n",
    "x=pd.read_csv('/Users/kk/Desktop/etf_addendum/analysis/screener-output-table-16-55-26-27-2023-07.csv')\n",
    "y=pd.read_csv('/Users/kk/Desktop/etf_addendum/analysis/screener-output-table-16-55-29-27-2023-07.csv')\n",
    "z=pd.read_csv('/Users/kk/Desktop/etf_addendum/analysis/screener-output-table-16-55-32-27-2023-07.csv')\n",
    "aa=pd.read_csv('/Users/kk/Desktop/etf_addendum/analysis/screener-output-table-16-55-35-27-2023-07.csv')\n",
    "ab=pd.read_csv('/Users/kk/Desktop/etf_addendum/analysis/screener-output-table-16-55-38-27-2023-07.csv')\n",
    "ac=pd.read_csv('/Users/kk/Desktop/etf_addendum/analysis/screener-output-table-16-55-41-27-2023-07.csv')\n",
    "ad=pd.read_csv('/Users/kk/Desktop/etf_addendum/analysis/screener-output-table-16-55-45-27-2023-07.csv')\n",
    "ae=pd.read_csv('/Users/kk/Desktop/etf_addendum/analysis/screener-output-table-16-55-48-27-2023-07.csv')\n",
    "af=pd.read_csv('/Users/kk/Desktop/etf_addendum/analysis/screener-output-table-16-56-02-27-2023-07.csv')"
   ]
  },
  {
   "cell_type": "code",
   "execution_count": 3,
   "metadata": {},
   "outputs": [
    {
     "data": {
      "text/html": [
       "<div>\n",
       "<style scoped>\n",
       "    .dataframe tbody tr th:only-of-type {\n",
       "        vertical-align: middle;\n",
       "    }\n",
       "\n",
       "    .dataframe tbody tr th {\n",
       "        vertical-align: top;\n",
       "    }\n",
       "\n",
       "    .dataframe thead th {\n",
       "        text-align: right;\n",
       "    }\n",
       "</style>\n",
       "<table border=\"1\" class=\"dataframe\">\n",
       "  <thead>\n",
       "    <tr style=\"text-align: right;\">\n",
       "      <th></th>\n",
       "      <th>Ticker</th>\n",
       "      <th>Fund Name</th>\n",
       "      <th>Analyst Pick</th>\n",
       "      <th>Grade</th>\n",
       "      <th>Efficiency</th>\n",
       "      <th>Tradability</th>\n",
       "      <th>Fit</th>\n",
       "      <th>Segment</th>\n",
       "    </tr>\n",
       "  </thead>\n",
       "  <tbody>\n",
       "    <tr>\n",
       "      <th>0</th>\n",
       "      <td>SPY</td>\n",
       "      <td>SPDR S&amp;P 500 ETF Trust</td>\n",
       "      <td>No</td>\n",
       "      <td>A</td>\n",
       "      <td>99</td>\n",
       "      <td>100</td>\n",
       "      <td>96</td>\n",
       "      <td>Equity: U.S.  -  Large Cap</td>\n",
       "    </tr>\n",
       "    <tr>\n",
       "      <th>1</th>\n",
       "      <td>IVV</td>\n",
       "      <td>iShares Core S&amp;P 500 ETF</td>\n",
       "      <td>No</td>\n",
       "      <td>A</td>\n",
       "      <td>100</td>\n",
       "      <td>100</td>\n",
       "      <td>96</td>\n",
       "      <td>Equity: U.S.  -  Large Cap</td>\n",
       "    </tr>\n",
       "    <tr>\n",
       "      <th>2</th>\n",
       "      <td>VOO</td>\n",
       "      <td>Vanguard 500 Index Fund</td>\n",
       "      <td>No</td>\n",
       "      <td>A</td>\n",
       "      <td>99</td>\n",
       "      <td>100</td>\n",
       "      <td>96</td>\n",
       "      <td>Equity: U.S.  -  Large Cap</td>\n",
       "    </tr>\n",
       "    <tr>\n",
       "      <th>3</th>\n",
       "      <td>VTI</td>\n",
       "      <td>Vanguard Total Stock Market ETF</td>\n",
       "      <td>Yes</td>\n",
       "      <td>A</td>\n",
       "      <td>99</td>\n",
       "      <td>100</td>\n",
       "      <td>99</td>\n",
       "      <td>Equity: U.S.  -  Total Market</td>\n",
       "    </tr>\n",
       "    <tr>\n",
       "      <th>4</th>\n",
       "      <td>QQQ</td>\n",
       "      <td>Invesco QQQ Trust</td>\n",
       "      <td>No</td>\n",
       "      <td>A</td>\n",
       "      <td>97</td>\n",
       "      <td>100</td>\n",
       "      <td>67</td>\n",
       "      <td>Equity: U.S.  -  Large Cap</td>\n",
       "    </tr>\n",
       "  </tbody>\n",
       "</table>\n",
       "</div>"
      ],
      "text/plain": [
       "  Ticker                        Fund Name Analyst Pick Grade Efficiency  \\\n",
       "0    SPY           SPDR S&P 500 ETF Trust           No     A         99   \n",
       "1    IVV         iShares Core S&P 500 ETF           No     A        100   \n",
       "2    VOO          Vanguard 500 Index Fund           No     A         99   \n",
       "3    VTI  Vanguard Total Stock Market ETF          Yes     A         99   \n",
       "4    QQQ                Invesco QQQ Trust           No     A         97   \n",
       "\n",
       "  Tradability Fit                        Segment  \n",
       "0         100  96     Equity: U.S.  -  Large Cap  \n",
       "1         100  96     Equity: U.S.  -  Large Cap  \n",
       "2         100  96     Equity: U.S.  -  Large Cap  \n",
       "3         100  99  Equity: U.S.  -  Total Market  \n",
       "4         100  67     Equity: U.S.  -  Large Cap  "
      ]
     },
     "execution_count": 3,
     "metadata": {},
     "output_type": "execute_result"
    }
   ],
   "source": [
    "# combine dfs in a list\n",
    "list_of_dfs = (a,b,c,d,e,f,g,h,i,j,k,l,m,n,o,p,q,r,s,t,u,v,w,x,y,z,aa,ab,ac,ad,ae,af)\n",
    "\n",
    "# Concatenate df along the rows\n",
    "df_analysis = pd.concat(list_of_dfs)\n",
    "\n",
    "# Reset the index after concatenation \n",
    "df_analysis.reset_index(drop=True, inplace=True)\n",
    "\n",
    "# Display first few rows of the merged DataFrame\n",
    "df_analysis = pd.DataFrame(df_analysis)\n",
    "#df_esg.columns = df_esg.columns.str.replace(' ', '')\n",
    "\n",
    "df_analysis.head()"
   ]
  },
  {
   "cell_type": "code",
   "execution_count": 4,
   "metadata": {},
   "outputs": [
    {
     "data": {
      "text/html": [
       "<div>\n",
       "<style scoped>\n",
       "    .dataframe tbody tr th:only-of-type {\n",
       "        vertical-align: middle;\n",
       "    }\n",
       "\n",
       "    .dataframe tbody tr th {\n",
       "        vertical-align: top;\n",
       "    }\n",
       "\n",
       "    .dataframe thead th {\n",
       "        text-align: right;\n",
       "    }\n",
       "</style>\n",
       "<table border=\"1\" class=\"dataframe\">\n",
       "  <thead>\n",
       "    <tr style=\"text-align: right;\">\n",
       "      <th></th>\n",
       "      <th>ticker</th>\n",
       "      <th>fund_name</th>\n",
       "      <th>analyst_pick</th>\n",
       "      <th>grade</th>\n",
       "      <th>efficiency</th>\n",
       "      <th>tradability</th>\n",
       "      <th>fit</th>\n",
       "      <th>segment</th>\n",
       "    </tr>\n",
       "  </thead>\n",
       "  <tbody>\n",
       "    <tr>\n",
       "      <th>0</th>\n",
       "      <td>SPY</td>\n",
       "      <td>SPDR S&amp;P 500 ETF Trust</td>\n",
       "      <td>No</td>\n",
       "      <td>A</td>\n",
       "      <td>99</td>\n",
       "      <td>100</td>\n",
       "      <td>96</td>\n",
       "      <td>Equity: U.S.  -  Large Cap</td>\n",
       "    </tr>\n",
       "    <tr>\n",
       "      <th>1</th>\n",
       "      <td>IVV</td>\n",
       "      <td>iShares Core S&amp;P 500 ETF</td>\n",
       "      <td>No</td>\n",
       "      <td>A</td>\n",
       "      <td>100</td>\n",
       "      <td>100</td>\n",
       "      <td>96</td>\n",
       "      <td>Equity: U.S.  -  Large Cap</td>\n",
       "    </tr>\n",
       "    <tr>\n",
       "      <th>2</th>\n",
       "      <td>VOO</td>\n",
       "      <td>Vanguard 500 Index Fund</td>\n",
       "      <td>No</td>\n",
       "      <td>A</td>\n",
       "      <td>99</td>\n",
       "      <td>100</td>\n",
       "      <td>96</td>\n",
       "      <td>Equity: U.S.  -  Large Cap</td>\n",
       "    </tr>\n",
       "    <tr>\n",
       "      <th>3</th>\n",
       "      <td>VTI</td>\n",
       "      <td>Vanguard Total Stock Market ETF</td>\n",
       "      <td>Yes</td>\n",
       "      <td>A</td>\n",
       "      <td>99</td>\n",
       "      <td>100</td>\n",
       "      <td>99</td>\n",
       "      <td>Equity: U.S.  -  Total Market</td>\n",
       "    </tr>\n",
       "    <tr>\n",
       "      <th>4</th>\n",
       "      <td>QQQ</td>\n",
       "      <td>Invesco QQQ Trust</td>\n",
       "      <td>No</td>\n",
       "      <td>A</td>\n",
       "      <td>97</td>\n",
       "      <td>100</td>\n",
       "      <td>67</td>\n",
       "      <td>Equity: U.S.  -  Large Cap</td>\n",
       "    </tr>\n",
       "  </tbody>\n",
       "</table>\n",
       "</div>"
      ],
      "text/plain": [
       "  ticker                        fund_name analyst_pick grade efficiency  \\\n",
       "0    SPY           SPDR S&P 500 ETF Trust           No     A         99   \n",
       "1    IVV         iShares Core S&P 500 ETF           No     A        100   \n",
       "2    VOO          Vanguard 500 Index Fund           No     A         99   \n",
       "3    VTI  Vanguard Total Stock Market ETF          Yes     A         99   \n",
       "4    QQQ                Invesco QQQ Trust           No     A         97   \n",
       "\n",
       "  tradability fit                        segment  \n",
       "0         100  96     Equity: U.S.  -  Large Cap  \n",
       "1         100  96     Equity: U.S.  -  Large Cap  \n",
       "2         100  96     Equity: U.S.  -  Large Cap  \n",
       "3         100  99  Equity: U.S.  -  Total Market  \n",
       "4         100  67     Equity: U.S.  -  Large Cap  "
      ]
     },
     "execution_count": 4,
     "metadata": {},
     "output_type": "execute_result"
    }
   ],
   "source": [
    "# snake_case\n",
    "\n",
    "df_analysis.columns = df_analysis.columns.str.lower().str.replace(\" \", \"_\")\n",
    "\n",
    "df_analysis.head()"
   ]
  },
  {
   "cell_type": "code",
   "execution_count": 5,
   "metadata": {},
   "outputs": [
    {
     "data": {
      "text/plain": [
       "ticker          object\n",
       "fund_name       object\n",
       "analyst_pick    object\n",
       "grade           object\n",
       "efficiency      object\n",
       "tradability     object\n",
       "fit             object\n",
       "segment         object\n",
       "dtype: object"
      ]
     },
     "execution_count": 5,
     "metadata": {},
     "output_type": "execute_result"
    }
   ],
   "source": [
    "df_analysis.dtypes"
   ]
  },
  {
   "cell_type": "code",
   "execution_count": 6,
   "metadata": {},
   "outputs": [],
   "source": [
    "# replace all -- with NaN\n",
    "df_analysis = df_analysis.replace(\"--\", \"NaN\")"
   ]
  },
  {
   "cell_type": "code",
   "execution_count": 7,
   "metadata": {},
   "outputs": [
    {
     "data": {
      "text/html": [
       "<div>\n",
       "<style scoped>\n",
       "    .dataframe tbody tr th:only-of-type {\n",
       "        vertical-align: middle;\n",
       "    }\n",
       "\n",
       "    .dataframe tbody tr th {\n",
       "        vertical-align: top;\n",
       "    }\n",
       "\n",
       "    .dataframe thead th {\n",
       "        text-align: right;\n",
       "    }\n",
       "</style>\n",
       "<table border=\"1\" class=\"dataframe\">\n",
       "  <thead>\n",
       "    <tr style=\"text-align: right;\">\n",
       "      <th></th>\n",
       "      <th>ticker</th>\n",
       "      <th>fund_name</th>\n",
       "      <th>analyst_pick</th>\n",
       "      <th>grade</th>\n",
       "      <th>efficiency</th>\n",
       "      <th>tradability</th>\n",
       "      <th>fit</th>\n",
       "      <th>segment</th>\n",
       "    </tr>\n",
       "  </thead>\n",
       "  <tbody>\n",
       "    <tr>\n",
       "      <th>0</th>\n",
       "      <td>SPY</td>\n",
       "      <td>SPDR S&amp;P 500 ETF Trust</td>\n",
       "      <td>True</td>\n",
       "      <td>A</td>\n",
       "      <td>99.0</td>\n",
       "      <td>100.0</td>\n",
       "      <td>96.0</td>\n",
       "      <td>Equity: U.S.  -  Large Cap</td>\n",
       "    </tr>\n",
       "    <tr>\n",
       "      <th>1</th>\n",
       "      <td>IVV</td>\n",
       "      <td>iShares Core S&amp;P 500 ETF</td>\n",
       "      <td>True</td>\n",
       "      <td>A</td>\n",
       "      <td>100.0</td>\n",
       "      <td>100.0</td>\n",
       "      <td>96.0</td>\n",
       "      <td>Equity: U.S.  -  Large Cap</td>\n",
       "    </tr>\n",
       "    <tr>\n",
       "      <th>2</th>\n",
       "      <td>VOO</td>\n",
       "      <td>Vanguard 500 Index Fund</td>\n",
       "      <td>True</td>\n",
       "      <td>A</td>\n",
       "      <td>99.0</td>\n",
       "      <td>100.0</td>\n",
       "      <td>96.0</td>\n",
       "      <td>Equity: U.S.  -  Large Cap</td>\n",
       "    </tr>\n",
       "    <tr>\n",
       "      <th>3</th>\n",
       "      <td>VTI</td>\n",
       "      <td>Vanguard Total Stock Market ETF</td>\n",
       "      <td>True</td>\n",
       "      <td>A</td>\n",
       "      <td>99.0</td>\n",
       "      <td>100.0</td>\n",
       "      <td>99.0</td>\n",
       "      <td>Equity: U.S.  -  Total Market</td>\n",
       "    </tr>\n",
       "    <tr>\n",
       "      <th>4</th>\n",
       "      <td>QQQ</td>\n",
       "      <td>Invesco QQQ Trust</td>\n",
       "      <td>True</td>\n",
       "      <td>A</td>\n",
       "      <td>97.0</td>\n",
       "      <td>100.0</td>\n",
       "      <td>67.0</td>\n",
       "      <td>Equity: U.S.  -  Large Cap</td>\n",
       "    </tr>\n",
       "  </tbody>\n",
       "</table>\n",
       "</div>"
      ],
      "text/plain": [
       "  ticker                        fund_name  analyst_pick grade  efficiency  \\\n",
       "0    SPY           SPDR S&P 500 ETF Trust          True     A        99.0   \n",
       "1    IVV         iShares Core S&P 500 ETF          True     A       100.0   \n",
       "2    VOO          Vanguard 500 Index Fund          True     A        99.0   \n",
       "3    VTI  Vanguard Total Stock Market ETF          True     A        99.0   \n",
       "4    QQQ                Invesco QQQ Trust          True     A        97.0   \n",
       "\n",
       "   tradability   fit                        segment  \n",
       "0        100.0  96.0     Equity: U.S.  -  Large Cap  \n",
       "1        100.0  96.0     Equity: U.S.  -  Large Cap  \n",
       "2        100.0  96.0     Equity: U.S.  -  Large Cap  \n",
       "3        100.0  99.0  Equity: U.S.  -  Total Market  \n",
       "4        100.0  67.0     Equity: U.S.  -  Large Cap  "
      ]
     },
     "execution_count": 7,
     "metadata": {},
     "output_type": "execute_result"
    }
   ],
   "source": [
    "\n",
    "df_analysis['ticker'] = df_analysis['ticker'].astype(\"object\")\n",
    "df_analysis['fund_name'] = df_analysis['fund_name'].astype(\"object\")\n",
    "df_analysis['analyst_pick'] = df_analysis['analyst_pick'].astype('bool')\n",
    "df_analysis['grade'] = df_analysis['grade'].astype(\"object\")\n",
    "df_analysis['efficiency'] = df_analysis['efficiency'].astype(\"float\")\n",
    "df_analysis['tradability'] = df_analysis['tradability'].astype(\"float\")\n",
    "df_analysis['fit'] = df_analysis['fit'].astype(\"float\")\n",
    "df_analysis['segment'] = df_analysis['segment'].astype(\"object\")\n",
    "\n",
    "df_analysis.head()"
   ]
  },
  {
   "cell_type": "code",
   "execution_count": 8,
   "metadata": {},
   "outputs": [],
   "source": [
    "df_analysis_etf = df_analysis"
   ]
  },
  {
   "cell_type": "code",
   "execution_count": 9,
   "metadata": {},
   "outputs": [
    {
     "data": {
      "text/plain": [
       "(3168, 8)"
      ]
     },
     "execution_count": 9,
     "metadata": {},
     "output_type": "execute_result"
    }
   ],
   "source": [
    "df_analysis.shape"
   ]
  },
  {
   "cell_type": "markdown",
   "metadata": {},
   "source": [
    "----------"
   ]
  },
  {
   "cell_type": "code",
   "execution_count": 10,
   "metadata": {},
   "outputs": [],
   "source": [
    "table_name = 'df_analysis_etf'"
   ]
  },
  {
   "cell_type": "code",
   "execution_count": 11,
   "metadata": {},
   "outputs": [],
   "source": [
    "import psycopg2\n",
    "# Import get_dataframe function from the sql module\n",
    "from sql_functions import get_dataframe"
   ]
  },
  {
   "cell_type": "code",
   "execution_count": 12,
   "metadata": {},
   "outputs": [],
   "source": [
    "\n",
    "# Import get_engine from sql_functions.py. You will need to restart your kernel and rerun at this point since we changed the module since we first imported it.\n",
    "from sql_functions import get_engine"
   ]
  },
  {
   "cell_type": "code",
   "execution_count": 13,
   "metadata": {},
   "outputs": [],
   "source": [
    "# create a variable called engine using the get_engine function\n",
    "engine = get_engine()"
   ]
  },
  {
   "cell_type": "code",
   "execution_count": 14,
   "metadata": {},
   "outputs": [
    {
     "name": "stdout",
     "output_type": "stream",
     "text": [
      "The df_analysis_etf table was imported successfully.\n"
     ]
    }
   ],
   "source": [
    "# Write records stored in a dataframe to SQL database\n",
    "if engine!=None:\n",
    "    try:\n",
    "        df_analysis_etf.to_sql(name=table_name, # Name of SQL table variable\n",
    "                        con=engine, # Engine or connection\n",
    "                        schema='public', # your class schema variable\n",
    "                        if_exists='replace', # Drop the table before inserting new values \n",
    "                        index=False, # Write DataFrame index as a column\n",
    "                        chunksize=5000, # Specify the number of rows in each batch to be written at a time\n",
    "                        method='multi') # Pass multiple values in a single INSERT clause\n",
    "        print(f\"The {table_name} table was imported successfully.\")\n",
    "    # Error handling\n",
    "    except (Exception, psycopg2.DatabaseError) as error:\n",
    "        print(error)\n",
    "        engine = None\n",
    "else:\n",
    "    print('No engine')"
   ]
  }
 ],
 "metadata": {
  "kernelspec": {
   "display_name": "sql_env",
   "language": "python",
   "name": "python3"
  },
  "language_info": {
   "codemirror_mode": {
    "name": "ipython",
    "version": 3
   },
   "file_extension": ".py",
   "mimetype": "text/x-python",
   "name": "python",
   "nbconvert_exporter": "python",
   "pygments_lexer": "ipython3",
   "version": "3.10.12"
  },
  "orig_nbformat": 4
 },
 "nbformat": 4,
 "nbformat_minor": 2
}
