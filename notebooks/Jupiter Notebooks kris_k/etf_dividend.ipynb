{
 "cells": [
  {
   "cell_type": "markdown",
   "metadata": {},
   "source": [
    "# Dividend"
   ]
  },
  {
   "cell_type": "code",
   "execution_count": 2,
   "metadata": {},
   "outputs": [],
   "source": [
    "import pandas as pd\n",
    "import numpy as np\n",
    "import matplotlib as mpl\n",
    "import sqlalchemy\n",
    "import psycopg2\n",
    "import sql_functions\n",
    "from sql_functions import get_engine"
   ]
  },
  {
   "cell_type": "code",
   "execution_count": 3,
   "metadata": {},
   "outputs": [],
   "source": [
    "a=pd.read_csv('/Users/kk/Desktop/etf_addendum/fundamentals/screener-output-table-16-57-11-27-2023-07.csv')\n",
    "b=pd.read_csv('/Users/kk/Desktop/etf_addendum/fundamentals/screener-output-table-16-57-15-27-2023-07.csv')\n",
    "c=pd.read_csv('/Users/kk/Desktop/etf_addendum/fundamentals/screener-output-table-16-57-17-27-2023-07.csv')\n",
    "d=pd.read_csv('/Users/kk/Desktop/etf_addendum/fundamentals/screener-output-table-16-57-21-27-2023-07.csv')\n",
    "e=pd.read_csv('/Users/kk/Desktop/etf_addendum/fundamentals/screener-output-table-16-57-24-27-2023-07.csv')\n",
    "f=pd.read_csv('/Users/kk/Desktop/etf_addendum/fundamentals/screener-output-table-16-57-27-27-2023-07.csv')\n",
    "g=pd.read_csv('/Users/kk/Desktop/etf_addendum/fundamentals/screener-output-table-16-57-30-27-2023-07.csv')\n",
    "h=pd.read_csv('/Users/kk/Desktop/etf_addendum/fundamentals/screener-output-table-16-57-34-27-2023-07.csv')\n",
    "i=pd.read_csv('/Users/kk/Desktop/etf_addendum/fundamentals/screener-output-table-16-57-37-27-2023-07.csv')\n",
    "j=pd.read_csv('/Users/kk/Desktop/etf_addendum/fundamentals/screener-output-table-16-57-39-27-2023-07.csv')\n",
    "k=pd.read_csv('/Users/kk/Desktop/etf_addendum/fundamentals/screener-output-table-16-57-43-27-2023-07.csv')\n",
    "l=pd.read_csv('/Users/kk/Desktop/etf_addendum/fundamentals/screener-output-table-16-57-48-27-2023-07.csv')\n",
    "m=pd.read_csv('/Users/kk/Desktop/etf_addendum/fundamentals/screener-output-table-16-57-52-27-2023-07.csv')\n",
    "n=pd.read_csv('/Users/kk/Desktop/etf_addendum/fundamentals/screener-output-table-16-57-56-27-2023-07.csv')\n",
    "o=pd.read_csv('/Users/kk/Desktop/etf_addendum/fundamentals/screener-output-table-16-57-59-27-2023-07.csv')\n",
    "p=pd.read_csv('/Users/kk/Desktop/etf_addendum/fundamentals/screener-output-table-16-58-03-27-2023-07.csv')\n",
    "q=pd.read_csv('/Users/kk/Desktop/etf_addendum/fundamentals/screener-output-table-16-58-06-27-2023-07.csv')\n",
    "r=pd.read_csv('/Users/kk/Desktop/etf_addendum/fundamentals/screener-output-table-16-58-10-27-2023-07.csv')\n",
    "s=pd.read_csv('/Users/kk/Desktop/etf_addendum/fundamentals/screener-output-table-16-58-14-27-2023-07.csv')\n",
    "t=pd.read_csv('/Users/kk/Desktop/etf_addendum/fundamentals/screener-output-table-16-58-17-27-2023-07.csv')\n",
    "u=pd.read_csv('/Users/kk/Desktop/etf_addendum/fundamentals/screener-output-table-16-58-20-27-2023-07.csv')\n",
    "v=pd.read_csv('/Users/kk/Desktop/etf_addendum/fundamentals/screener-output-table-16-58-23-27-2023-07.csv')\n",
    "w=pd.read_csv('/Users/kk/Desktop/etf_addendum/fundamentals/screener-output-table-16-58-27-27-2023-07.csv')\n",
    "x=pd.read_csv('/Users/kk/Desktop/etf_addendum/fundamentals/screener-output-table-16-58-30-27-2023-07.csv')\n",
    "y=pd.read_csv('/Users/kk/Desktop/etf_addendum/fundamentals/screener-output-table-16-58-33-27-2023-07.csv')\n",
    "z=pd.read_csv('/Users/kk/Desktop/etf_addendum/fundamentals/screener-output-table-16-58-36-27-2023-07.csv')\n",
    "aa=pd.read_csv('/Users/kk/Desktop/etf_addendum/fundamentals/screener-output-table-16-58-39-27-2023-07.csv')\n",
    "ab=pd.read_csv('/Users/kk/Desktop/etf_addendum/fundamentals/screener-output-table-16-58-43-27-2023-07.csv')\n",
    "ac=pd.read_csv('/Users/kk/Desktop/etf_addendum/fundamentals/screener-output-table-16-58-47-27-2023-07.csv')\n",
    "ad=pd.read_csv('/Users/kk/Desktop/etf_addendum/fundamentals/screener-output-table-16-58-54-27-2023-07.csv')\n",
    "ae=pd.read_csv('/Users/kk/Desktop/etf_addendum/fundamentals/screener-output-table-16-59-01-27-2023-07.csv')\n",
    "af=pd.read_csv('/Users/kk/Desktop/etf_addendum/fundamentals/screener-output-table-16-59-06-27-2023-07.csv')"
   ]
  },
  {
   "cell_type": "code",
   "execution_count": 4,
   "metadata": {},
   "outputs": [
    {
     "data": {
      "text/html": [
       "<div>\n",
       "<style scoped>\n",
       "    .dataframe tbody tr th:only-of-type {\n",
       "        vertical-align: middle;\n",
       "    }\n",
       "\n",
       "    .dataframe tbody tr th {\n",
       "        vertical-align: top;\n",
       "    }\n",
       "\n",
       "    .dataframe thead th {\n",
       "        text-align: right;\n",
       "    }\n",
       "</style>\n",
       "<table border=\"1\" class=\"dataframe\">\n",
       "  <thead>\n",
       "    <tr style=\"text-align: right;\">\n",
       "      <th></th>\n",
       "      <th>Ticker</th>\n",
       "      <th>Fund Name</th>\n",
       "      <th>Dividend Yield</th>\n",
       "      <th>EQUITY</th>\n",
       "      <th>FIXED INCOME</th>\n",
       "    </tr>\n",
       "  </thead>\n",
       "  <tbody>\n",
       "    <tr>\n",
       "      <th>0</th>\n",
       "      <td>SPY</td>\n",
       "      <td>SPDR S&amp;P 500 ETF Trust</td>\n",
       "      <td>1.60%</td>\n",
       "      <td>NaN</td>\n",
       "      <td>NaN</td>\n",
       "    </tr>\n",
       "    <tr>\n",
       "      <th>1</th>\n",
       "      <td>IVV</td>\n",
       "      <td>iShares Core S&amp;P 500 ETF</td>\n",
       "      <td>1.60%</td>\n",
       "      <td>NaN</td>\n",
       "      <td>NaN</td>\n",
       "    </tr>\n",
       "    <tr>\n",
       "      <th>2</th>\n",
       "      <td>VOO</td>\n",
       "      <td>Vanguard 500 Index Fund</td>\n",
       "      <td>1.60%</td>\n",
       "      <td>NaN</td>\n",
       "      <td>NaN</td>\n",
       "    </tr>\n",
       "    <tr>\n",
       "      <th>3</th>\n",
       "      <td>VTI</td>\n",
       "      <td>Vanguard Total Stock Market ETF</td>\n",
       "      <td>1.56%</td>\n",
       "      <td>NaN</td>\n",
       "      <td>NaN</td>\n",
       "    </tr>\n",
       "    <tr>\n",
       "      <th>4</th>\n",
       "      <td>QQQ</td>\n",
       "      <td>Invesco QQQ Trust</td>\n",
       "      <td>0.75%</td>\n",
       "      <td>NaN</td>\n",
       "      <td>NaN</td>\n",
       "    </tr>\n",
       "  </tbody>\n",
       "</table>\n",
       "</div>"
      ],
      "text/plain": [
       "  Ticker                        Fund Name Dividend Yield  EQUITY  FIXED INCOME\n",
       "0    SPY           SPDR S&P 500 ETF Trust          1.60%     NaN           NaN\n",
       "1    IVV         iShares Core S&P 500 ETF          1.60%     NaN           NaN\n",
       "2    VOO          Vanguard 500 Index Fund          1.60%     NaN           NaN\n",
       "3    VTI  Vanguard Total Stock Market ETF          1.56%     NaN           NaN\n",
       "4    QQQ                Invesco QQQ Trust          0.75%     NaN           NaN"
      ]
     },
     "execution_count": 4,
     "metadata": {},
     "output_type": "execute_result"
    }
   ],
   "source": [
    "# combine dfs in a list\n",
    "list_of_dfs = (a,b,c,d,e,f,g,h,i,j,k,l,m,n,o,p,q,r,s,t,u,v,w,x,y,z,aa,ab,ac,ad,ae,af)\n",
    "\n",
    "# Concatenate df along the rows\n",
    "df_dividend = pd.concat(list_of_dfs)\n",
    "\n",
    "# Reset the index after concatenation \n",
    "df_dividend.reset_index(drop=True, inplace=True)\n",
    "\n",
    "# Display first few rows of the merged DataFrame\n",
    "df_dividend = pd.DataFrame(df_dividend)\n",
    "#df_esg.columns = df_esg.columns.str.replace(' ', '')\n",
    "\n",
    "df_dividend.head()"
   ]
  },
  {
   "cell_type": "code",
   "execution_count": 5,
   "metadata": {},
   "outputs": [
    {
     "data": {
      "text/html": [
       "<div>\n",
       "<style scoped>\n",
       "    .dataframe tbody tr th:only-of-type {\n",
       "        vertical-align: middle;\n",
       "    }\n",
       "\n",
       "    .dataframe tbody tr th {\n",
       "        vertical-align: top;\n",
       "    }\n",
       "\n",
       "    .dataframe thead th {\n",
       "        text-align: right;\n",
       "    }\n",
       "</style>\n",
       "<table border=\"1\" class=\"dataframe\">\n",
       "  <thead>\n",
       "    <tr style=\"text-align: right;\">\n",
       "      <th></th>\n",
       "      <th>ticker</th>\n",
       "      <th>fund_name</th>\n",
       "      <th>dividend_yield</th>\n",
       "      <th>equity</th>\n",
       "      <th>fixed_income</th>\n",
       "    </tr>\n",
       "  </thead>\n",
       "  <tbody>\n",
       "    <tr>\n",
       "      <th>0</th>\n",
       "      <td>SPY</td>\n",
       "      <td>SPDR S&amp;P 500 ETF Trust</td>\n",
       "      <td>1.60%</td>\n",
       "      <td>NaN</td>\n",
       "      <td>NaN</td>\n",
       "    </tr>\n",
       "    <tr>\n",
       "      <th>1</th>\n",
       "      <td>IVV</td>\n",
       "      <td>iShares Core S&amp;P 500 ETF</td>\n",
       "      <td>1.60%</td>\n",
       "      <td>NaN</td>\n",
       "      <td>NaN</td>\n",
       "    </tr>\n",
       "    <tr>\n",
       "      <th>2</th>\n",
       "      <td>VOO</td>\n",
       "      <td>Vanguard 500 Index Fund</td>\n",
       "      <td>1.60%</td>\n",
       "      <td>NaN</td>\n",
       "      <td>NaN</td>\n",
       "    </tr>\n",
       "    <tr>\n",
       "      <th>3</th>\n",
       "      <td>VTI</td>\n",
       "      <td>Vanguard Total Stock Market ETF</td>\n",
       "      <td>1.56%</td>\n",
       "      <td>NaN</td>\n",
       "      <td>NaN</td>\n",
       "    </tr>\n",
       "    <tr>\n",
       "      <th>4</th>\n",
       "      <td>QQQ</td>\n",
       "      <td>Invesco QQQ Trust</td>\n",
       "      <td>0.75%</td>\n",
       "      <td>NaN</td>\n",
       "      <td>NaN</td>\n",
       "    </tr>\n",
       "  </tbody>\n",
       "</table>\n",
       "</div>"
      ],
      "text/plain": [
       "  ticker                        fund_name dividend_yield  equity  fixed_income\n",
       "0    SPY           SPDR S&P 500 ETF Trust          1.60%     NaN           NaN\n",
       "1    IVV         iShares Core S&P 500 ETF          1.60%     NaN           NaN\n",
       "2    VOO          Vanguard 500 Index Fund          1.60%     NaN           NaN\n",
       "3    VTI  Vanguard Total Stock Market ETF          1.56%     NaN           NaN\n",
       "4    QQQ                Invesco QQQ Trust          0.75%     NaN           NaN"
      ]
     },
     "execution_count": 5,
     "metadata": {},
     "output_type": "execute_result"
    }
   ],
   "source": [
    "# snake_case\n",
    "\n",
    "df_dividend.columns = df_dividend.columns.str.lower().str.replace(\" \", \"_\")\n",
    "\n",
    "df_dividend.head()"
   ]
  },
  {
   "cell_type": "code",
   "execution_count": 6,
   "metadata": {},
   "outputs": [],
   "source": [
    "# replace all -- with NaN\n",
    "df_dividend.dividend_yield = df_dividend.dividend_yield.str.replace(\"--\", \"NaN\")\n",
    "df_dividend.dividend_yield = df_dividend.dividend_yield.str.replace(\"%\", \"\")"
   ]
  },
  {
   "cell_type": "code",
   "execution_count": 7,
   "metadata": {},
   "outputs": [
    {
     "data": {
      "text/html": [
       "<div>\n",
       "<style scoped>\n",
       "    .dataframe tbody tr th:only-of-type {\n",
       "        vertical-align: middle;\n",
       "    }\n",
       "\n",
       "    .dataframe tbody tr th {\n",
       "        vertical-align: top;\n",
       "    }\n",
       "\n",
       "    .dataframe thead th {\n",
       "        text-align: right;\n",
       "    }\n",
       "</style>\n",
       "<table border=\"1\" class=\"dataframe\">\n",
       "  <thead>\n",
       "    <tr style=\"text-align: right;\">\n",
       "      <th></th>\n",
       "      <th>ticker</th>\n",
       "      <th>fund_name</th>\n",
       "      <th>dividend_yield</th>\n",
       "    </tr>\n",
       "  </thead>\n",
       "  <tbody>\n",
       "    <tr>\n",
       "      <th>0</th>\n",
       "      <td>SPY</td>\n",
       "      <td>SPDR S&amp;P 500 ETF Trust</td>\n",
       "      <td>1.60</td>\n",
       "    </tr>\n",
       "    <tr>\n",
       "      <th>1</th>\n",
       "      <td>IVV</td>\n",
       "      <td>iShares Core S&amp;P 500 ETF</td>\n",
       "      <td>1.60</td>\n",
       "    </tr>\n",
       "    <tr>\n",
       "      <th>2</th>\n",
       "      <td>VOO</td>\n",
       "      <td>Vanguard 500 Index Fund</td>\n",
       "      <td>1.60</td>\n",
       "    </tr>\n",
       "    <tr>\n",
       "      <th>3</th>\n",
       "      <td>VTI</td>\n",
       "      <td>Vanguard Total Stock Market ETF</td>\n",
       "      <td>1.56</td>\n",
       "    </tr>\n",
       "    <tr>\n",
       "      <th>4</th>\n",
       "      <td>QQQ</td>\n",
       "      <td>Invesco QQQ Trust</td>\n",
       "      <td>0.75</td>\n",
       "    </tr>\n",
       "  </tbody>\n",
       "</table>\n",
       "</div>"
      ],
      "text/plain": [
       "  ticker                        fund_name dividend_yield\n",
       "0    SPY           SPDR S&P 500 ETF Trust           1.60\n",
       "1    IVV         iShares Core S&P 500 ETF           1.60\n",
       "2    VOO          Vanguard 500 Index Fund           1.60\n",
       "3    VTI  Vanguard Total Stock Market ETF           1.56\n",
       "4    QQQ                Invesco QQQ Trust           0.75"
      ]
     },
     "execution_count": 7,
     "metadata": {},
     "output_type": "execute_result"
    }
   ],
   "source": [
    "df_dividend =df_dividend.drop('fixed_income', axis=1)\n",
    "df_dividend =df_dividend.drop('equity', axis=1)\n",
    "df_dividend.head()"
   ]
  },
  {
   "cell_type": "code",
   "execution_count": 16,
   "metadata": {},
   "outputs": [],
   "source": [
    "df_dividend_etf = df_dividend"
   ]
  },
  {
   "cell_type": "code",
   "execution_count": 15,
   "metadata": {},
   "outputs": [
    {
     "data": {
      "text/plain": [
       "(3168, 3)"
      ]
     },
     "execution_count": 15,
     "metadata": {},
     "output_type": "execute_result"
    }
   ],
   "source": [
    "df_dividend.shape"
   ]
  },
  {
   "cell_type": "code",
   "execution_count": null,
   "metadata": {},
   "outputs": [],
   "source": []
  },
  {
   "cell_type": "markdown",
   "metadata": {},
   "source": [
    "---------"
   ]
  },
  {
   "cell_type": "code",
   "execution_count": 14,
   "metadata": {},
   "outputs": [],
   "source": [
    "table_name = 'df_dividend_etf'"
   ]
  },
  {
   "cell_type": "code",
   "execution_count": 11,
   "metadata": {},
   "outputs": [],
   "source": [
    "import psycopg2\n",
    "# Import get_dataframe function from the sql module\n",
    "from sql_functions import get_dataframe"
   ]
  },
  {
   "cell_type": "code",
   "execution_count": 12,
   "metadata": {},
   "outputs": [],
   "source": [
    "# create a variable called engine using the get_engine function\n",
    "engine = get_engine()"
   ]
  },
  {
   "cell_type": "code",
   "execution_count": null,
   "metadata": {},
   "outputs": [],
   "source": [
    "# Write records stored in a dataframe to SQL database\n",
    "if engine!=None:\n",
    "    try:\n",
    "        df_dividend_etf.to_sql(name=table_name, # Name of SQL table variable\n",
    "                        con=engine, # Engine or connection\n",
    "                        schema='public', # your class schema variable\n",
    "                        if_exists='replace', # Drop the table before inserting new values \n",
    "                        index=False, # Write DataFrame index as a column\n",
    "                        chunksize=5000, # Specify the number of rows in each batch to be written at a time\n",
    "                        method='multi') # Pass multiple values in a single INSERT clause\n",
    "        print(f\"The {table_name} table was imported successfully.\")\n",
    "    # Error handling\n",
    "    except (Exception, psycopg2.DatabaseError) as error:\n",
    "        print(error)\n",
    "        engine = None\n",
    "else:\n",
    "    print('No engine')"
   ]
  }
 ],
 "metadata": {
  "kernelspec": {
   "display_name": "sql_env",
   "language": "python",
   "name": "python3"
  },
  "language_info": {
   "codemirror_mode": {
    "name": "ipython",
    "version": 3
   },
   "file_extension": ".py",
   "mimetype": "text/x-python",
   "name": "python",
   "nbconvert_exporter": "python",
   "pygments_lexer": "ipython3",
   "version": "3.10.12"
  },
  "orig_nbformat": 4
 },
 "nbformat": 4,
 "nbformat_minor": 2
}
