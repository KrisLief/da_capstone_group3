{
 "cells": [
  {
   "cell_type": "code",
   "execution_count": 1,
   "metadata": {},
   "outputs": [],
   "source": [
    "import pandas as pd\n",
    "import numpy as np"
   ]
  },
  {
   "cell_type": "code",
   "execution_count": 2,
   "metadata": {},
   "outputs": [],
   "source": [
    "model_data = pd.read_csv(\"data/capstone_model_data.csv\",  delimiter=';', skiprows = 0)\n"
   ]
  },
  {
   "cell_type": "code",
   "execution_count": 3,
   "metadata": {},
   "outputs": [
    {
     "data": {
      "text/plain": [
       "Index(['model_person', 'sex', 'year_of_birth', 'age', 'retirement_age',\n",
       "       'retirement_start_year', 'remaining_years', 'state_pension_0',\n",
       "       'state_pension_1', 'state_pension_2', 'target_pension'],\n",
       "      dtype='object')"
      ]
     },
     "execution_count": 3,
     "metadata": {},
     "output_type": "execute_result"
    }
   ],
   "source": [
    "model_data.head()\n",
    "model_data.columns"
   ]
  },
  {
   "cell_type": "code",
   "execution_count": 4,
   "metadata": {},
   "outputs": [
    {
     "data": {
      "text/html": [
       "<div>\n",
       "<style scoped>\n",
       "    .dataframe tbody tr th:only-of-type {\n",
       "        vertical-align: middle;\n",
       "    }\n",
       "\n",
       "    .dataframe tbody tr th {\n",
       "        vertical-align: top;\n",
       "    }\n",
       "\n",
       "    .dataframe thead th {\n",
       "        text-align: right;\n",
       "    }\n",
       "</style>\n",
       "<table border=\"1\" class=\"dataframe\">\n",
       "  <thead>\n",
       "    <tr style=\"text-align: right;\">\n",
       "      <th></th>\n",
       "      <th>model_person</th>\n",
       "      <th>sex</th>\n",
       "      <th>year_of_birth</th>\n",
       "      <th>age</th>\n",
       "      <th>retirement_age</th>\n",
       "      <th>retirement_start_year</th>\n",
       "      <th>remaining_years</th>\n",
       "      <th>state_pension_0</th>\n",
       "      <th>state_pension_1</th>\n",
       "      <th>state_pension_2</th>\n",
       "      <th>target_pension</th>\n",
       "    </tr>\n",
       "  </thead>\n",
       "  <tbody>\n",
       "    <tr>\n",
       "      <th>0</th>\n",
       "      <td>person_1</td>\n",
       "      <td>male</td>\n",
       "      <td>1993</td>\n",
       "      <td>30</td>\n",
       "      <td>67</td>\n",
       "      <td>2060</td>\n",
       "      <td>53,04</td>\n",
       "      <td>2.334,21</td>\n",
       "      <td>2.870,00</td>\n",
       "      <td>3.530,00</td>\n",
       "      <td>3.900,00</td>\n",
       "    </tr>\n",
       "    <tr>\n",
       "      <th>1</th>\n",
       "      <td>person_2</td>\n",
       "      <td>female</td>\n",
       "      <td>1988</td>\n",
       "      <td>35</td>\n",
       "      <td>67</td>\n",
       "      <td>2055</td>\n",
       "      <td>52,05</td>\n",
       "      <td>2.334,21</td>\n",
       "      <td>2.870,00</td>\n",
       "      <td>3.530,00</td>\n",
       "      <td>3.900,00</td>\n",
       "    </tr>\n",
       "    <tr>\n",
       "      <th>2</th>\n",
       "      <td>person_3</td>\n",
       "      <td>male</td>\n",
       "      <td>1983</td>\n",
       "      <td>40</td>\n",
       "      <td>67</td>\n",
       "      <td>2050</td>\n",
       "      <td>42,92</td>\n",
       "      <td>2.334,21</td>\n",
       "      <td>2.870,00</td>\n",
       "      <td>3.530,00</td>\n",
       "      <td>3.900,00</td>\n",
       "    </tr>\n",
       "    <tr>\n",
       "      <th>3</th>\n",
       "      <td>person_4</td>\n",
       "      <td>female</td>\n",
       "      <td>1978</td>\n",
       "      <td>45</td>\n",
       "      <td>67</td>\n",
       "      <td>2045</td>\n",
       "      <td>41,97</td>\n",
       "      <td>2.334,21</td>\n",
       "      <td>2.870,00</td>\n",
       "      <td>3.530,00</td>\n",
       "      <td>3.900,00</td>\n",
       "    </tr>\n",
       "    <tr>\n",
       "      <th>4</th>\n",
       "      <td>person_5</td>\n",
       "      <td>male</td>\n",
       "      <td>1973</td>\n",
       "      <td>50</td>\n",
       "      <td>67</td>\n",
       "      <td>2040</td>\n",
       "      <td>32,94</td>\n",
       "      <td>2.334,21</td>\n",
       "      <td>2.870,00</td>\n",
       "      <td>3.530,00</td>\n",
       "      <td>3.900,00</td>\n",
       "    </tr>\n",
       "    <tr>\n",
       "      <th>5</th>\n",
       "      <td>person_6</td>\n",
       "      <td>female</td>\n",
       "      <td>1968</td>\n",
       "      <td>55</td>\n",
       "      <td>67</td>\n",
       "      <td>2035</td>\n",
       "      <td>32,03</td>\n",
       "      <td>2.334,21</td>\n",
       "      <td>2.870,00</td>\n",
       "      <td>3.530,00</td>\n",
       "      <td>3.900,00</td>\n",
       "    </tr>\n",
       "    <tr>\n",
       "      <th>6</th>\n",
       "      <td>person_7</td>\n",
       "      <td>male</td>\n",
       "      <td>1963</td>\n",
       "      <td>60</td>\n",
       "      <td>67</td>\n",
       "      <td>2030</td>\n",
       "      <td>23,58</td>\n",
       "      <td>2.334,21</td>\n",
       "      <td>2.870,00</td>\n",
       "      <td>3.530,00</td>\n",
       "      <td>3.900,00</td>\n",
       "    </tr>\n",
       "  </tbody>\n",
       "</table>\n",
       "</div>"
      ],
      "text/plain": [
       "  model_person     sex  year_of_birth  age  retirement_age  \\\n",
       "0     person_1    male           1993   30              67   \n",
       "1     person_2  female           1988   35              67   \n",
       "2     person_3    male           1983   40              67   \n",
       "3     person_4  female           1978   45              67   \n",
       "4     person_5    male           1973   50              67   \n",
       "5     person_6  female           1968   55              67   \n",
       "6     person_7    male           1963   60              67   \n",
       "\n",
       "   retirement_start_year remaining_years state_pension_0 state_pension_1  \\\n",
       "0                   2060           53,04       2.334,21        2.870,00    \n",
       "1                   2055           52,05       2.334,21        2.870,00    \n",
       "2                   2050           42,92       2.334,21        2.870,00    \n",
       "3                   2045           41,97       2.334,21        2.870,00    \n",
       "4                   2040           32,94       2.334,21        2.870,00    \n",
       "5                   2035           32,03       2.334,21        2.870,00    \n",
       "6                   2030           23,58       2.334,21        2.870,00    \n",
       "\n",
       "  state_pension_2 target_pension  \n",
       "0       3.530,00       3.900,00   \n",
       "1       3.530,00       3.900,00   \n",
       "2       3.530,00       3.900,00   \n",
       "3       3.530,00       3.900,00   \n",
       "4       3.530,00       3.900,00   \n",
       "5       3.530,00       3.900,00   \n",
       "6       3.530,00       3.900,00   "
      ]
     },
     "execution_count": 4,
     "metadata": {},
     "output_type": "execute_result"
    }
   ],
   "source": [
    "df_model_data = model_data[['model_person', 'sex', 'year_of_birth', 'age', 'retirement_age', 'retirement_start_year', 'remaining_years', 'state_pension_0', 'state_pension_1', 'state_pension_2', 'target_pension']]\n",
    "df_model_data"
   ]
  },
  {
   "cell_type": "code",
   "execution_count": 5,
   "metadata": {},
   "outputs": [
    {
     "name": "stdout",
     "output_type": "stream",
     "text": [
      "<class 'pandas.core.frame.DataFrame'>\n",
      "RangeIndex: 7 entries, 0 to 6\n",
      "Data columns (total 11 columns):\n",
      " #   Column                 Non-Null Count  Dtype \n",
      "---  ------                 --------------  ----- \n",
      " 0   model_person           7 non-null      object\n",
      " 1   sex                    7 non-null      object\n",
      " 2   year_of_birth          7 non-null      int64 \n",
      " 3   age                    7 non-null      int64 \n",
      " 4   retirement_age         7 non-null      int64 \n",
      " 5   retirement_start_year  7 non-null      int64 \n",
      " 6   remaining_years        7 non-null      object\n",
      " 7   state_pension_0        7 non-null      object\n",
      " 8   state_pension_1        7 non-null      object\n",
      " 9   state_pension_2        7 non-null      object\n",
      " 10  target_pension         7 non-null      object\n",
      "dtypes: int64(4), object(7)\n",
      "memory usage: 744.0+ bytes\n"
     ]
    }
   ],
   "source": [
    "df_model_data.info()\n"
   ]
  },
  {
   "cell_type": "code",
   "execution_count": 6,
   "metadata": {},
   "outputs": [],
   "source": [
    "df_model_data['remaining_years'] = df_model_data['remaining_years'].str.replace(',', '.').astype(float)"
   ]
  },
  {
   "cell_type": "code",
   "execution_count": 7,
   "metadata": {},
   "outputs": [
    {
     "name": "stderr",
     "output_type": "stream",
     "text": [
      "/var/folders/ph/6y08czjn14bfflh007r4klh40000gn/T/ipykernel_8107/2813608622.py:1: FutureWarning: The default value of regex will change from True to False in a future version. In addition, single character regular expressions will *not* be treated as literal strings when regex=True.\n",
      "  df_model_data['state_pension_0'] = df_model_data['state_pension_0'].str.replace('.', '')\n",
      "/var/folders/ph/6y08czjn14bfflh007r4klh40000gn/T/ipykernel_8107/2813608622.py:2: FutureWarning: The default value of regex will change from True to False in a future version. In addition, single character regular expressions will *not* be treated as literal strings when regex=True.\n",
      "  df_model_data['state_pension_1'] = df_model_data['state_pension_1'].str.replace('.', '')\n",
      "/var/folders/ph/6y08czjn14bfflh007r4klh40000gn/T/ipykernel_8107/2813608622.py:3: FutureWarning: The default value of regex will change from True to False in a future version. In addition, single character regular expressions will *not* be treated as literal strings when regex=True.\n",
      "  df_model_data['state_pension_2'] = df_model_data['state_pension_2'].str.replace('.', '')\n",
      "/var/folders/ph/6y08czjn14bfflh007r4klh40000gn/T/ipykernel_8107/2813608622.py:4: FutureWarning: The default value of regex will change from True to False in a future version. In addition, single character regular expressions will *not* be treated as literal strings when regex=True.\n",
      "  df_model_data['target_pension'] = df_model_data['target_pension'].str.replace('.', '')\n"
     ]
    }
   ],
   "source": [
    "df_model_data['state_pension_0'] = df_model_data['state_pension_0'].str.replace('.', '')\n",
    "df_model_data['state_pension_1'] = df_model_data['state_pension_1'].str.replace('.', '')\n",
    "df_model_data['state_pension_2'] = df_model_data['state_pension_2'].str.replace('.', '')\n",
    "df_model_data['target_pension'] = df_model_data['target_pension'].str.replace('.', '')"
   ]
  },
  {
   "cell_type": "code",
   "execution_count": 8,
   "metadata": {},
   "outputs": [],
   "source": [
    "df_model_data['state_pension_0'] = df_model_data['state_pension_0'].str.replace(',', '.').astype(float)\n",
    "df_model_data['state_pension_1'] = df_model_data['state_pension_1'].str.replace(',', '.').astype(float)\n",
    "df_model_data['state_pension_2'] = df_model_data['state_pension_2'].str.replace(',', '.').astype(float)\n",
    "df_model_data['target_pension'] = df_model_data['target_pension'].str.replace(',', '.').astype(float)"
   ]
  },
  {
   "cell_type": "code",
   "execution_count": 9,
   "metadata": {},
   "outputs": [
    {
     "name": "stdout",
     "output_type": "stream",
     "text": [
      "<class 'pandas.core.frame.DataFrame'>\n",
      "RangeIndex: 7 entries, 0 to 6\n",
      "Data columns (total 11 columns):\n",
      " #   Column                 Non-Null Count  Dtype  \n",
      "---  ------                 --------------  -----  \n",
      " 0   model_person           7 non-null      object \n",
      " 1   sex                    7 non-null      object \n",
      " 2   year_of_birth          7 non-null      int64  \n",
      " 3   age                    7 non-null      int64  \n",
      " 4   retirement_age         7 non-null      int64  \n",
      " 5   retirement_start_year  7 non-null      int64  \n",
      " 6   remaining_years        7 non-null      float64\n",
      " 7   state_pension_0        7 non-null      float64\n",
      " 8   state_pension_1        7 non-null      float64\n",
      " 9   state_pension_2        7 non-null      float64\n",
      " 10  target_pension         7 non-null      float64\n",
      "dtypes: float64(5), int64(4), object(2)\n",
      "memory usage: 744.0+ bytes\n"
     ]
    }
   ],
   "source": [
    "df_model_data.info()"
   ]
  },
  {
   "cell_type": "code",
   "execution_count": 10,
   "metadata": {},
   "outputs": [],
   "source": [
    "import psycopg2\n",
    "# Import get_dataframe function from the sql module\n",
    "from sql_functions import get_dataframe\n"
   ]
  },
  {
   "cell_type": "code",
   "execution_count": 11,
   "metadata": {},
   "outputs": [],
   "source": [
    "table_name = 'dummy_pension_data'\n",
    "# Import get_engine from sql_functions.py. You will need to restart your kernel and rerun at this point since we changed the module since we first imported it.\n",
    "from sql_functions import get_engine\n",
    "\n"
   ]
  },
  {
   "cell_type": "code",
   "execution_count": 12,
   "metadata": {},
   "outputs": [],
   "source": [
    "# create a variable called engine using the get_engine function\n",
    "engine = get_engine()"
   ]
  },
  {
   "cell_type": "code",
   "execution_count": 13,
   "metadata": {},
   "outputs": [
    {
     "name": "stdout",
     "output_type": "stream",
     "text": [
      "The dummy_pension_data table was imported successfully.\n"
     ]
    }
   ],
   "source": [
    "# Write records stored in a dataframe to SQL database\n",
    "if engine!=None:\n",
    "    try:\n",
    "        df_model_data.to_sql(name=table_name, # Name of SQL table variable\n",
    "                        con=engine, # Engine or connection\n",
    "                        schema='public', # your class schema variable\n",
    "                        if_exists='replace', # Drop the table before inserting new values \n",
    "                        index=False, # Write DataFrame index as a column\n",
    "                        chunksize=5000, # Specify the number of rows in each batch to be written at a time\n",
    "                        method='multi') # Pass multiple values in a single INSERT clause\n",
    "        print(f\"The {table_name} table was imported successfully.\")\n",
    "    # Error handling\n",
    "    except (Exception, psycopg2.DatabaseError) as error:\n",
    "        print(error)\n",
    "        engine = None\n",
    "else:\n",
    "    print('No engine')"
   ]
  }
 ],
 "metadata": {
  "kernelspec": {
   "display_name": "nf_cluster",
   "language": "python",
   "name": "python3"
  },
  "language_info": {
   "codemirror_mode": {
    "name": "ipython",
    "version": 3
   },
   "file_extension": ".py",
   "mimetype": "text/x-python",
   "name": "python",
   "nbconvert_exporter": "python",
   "pygments_lexer": "ipython3",
   "version": "3.9.16"
  },
  "orig_nbformat": 4
 },
 "nbformat": 4,
 "nbformat_minor": 2
}
