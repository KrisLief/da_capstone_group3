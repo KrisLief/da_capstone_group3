{
 "cells": [
  {
   "cell_type": "code",
   "execution_count": 3,
   "metadata": {},
   "outputs": [],
   "source": [
    "import pandas as pd\n",
    "import numpy as np\n",
    "import statsmodels.api as sm\n",
    "from statsmodels.tsa.stattools import adfuller\n",
    "import matplotlib.pyplot as plt"
   ]
  },
  {
   "cell_type": "code",
   "execution_count": 4,
   "metadata": {},
   "outputs": [],
   "source": [
    "from sql_functions import get_dataframe"
   ]
  },
  {
   "cell_type": "code",
   "execution_count": 7,
   "metadata": {},
   "outputs": [
    {
     "name": "stdout",
     "output_type": "stream",
     "text": [
      "     p_ten_yr ticker  Monthly_Performance  MIA_7_142800  MIA_12_142800  \\\n",
      "0       12.48    SPY             0.009849       1100.58         453.51   \n",
      "1       12.54    IVV             0.009893       1098.27         451.74   \n",
      "2       12.55    VOO             0.009901       1097.89         451.44   \n",
      "3       11.98    VTI             0.009474       1119.99         468.50   \n",
      "4       18.66    QQQ             0.014360        886.81         301.91   \n",
      "..        ...    ...                  ...           ...            ...   \n",
      "706      3.32   CHII             0.002725       1515.13         811.10   \n",
      "707      0.97   EEMO             0.000805       1643.87         935.71   \n",
      "708      6.00   KFYP             0.004868       1380.15         686.71   \n",
      "709      4.66   CHIM             0.003803       1446.12         746.64   \n",
      "710    -12.10   ERUS            -0.010690       2567.48        1939.06   \n",
      "\n",
      "     MIA_17_142800  MIA_22_142800  MIA_27_142800  MIA_32_142800  MIA_37_142800  \n",
      "0           220.30         114.40          61.32          33.41          18.36  \n",
      "1           219.00         113.47          60.68          32.98          18.08  \n",
      "2           218.79         113.32          60.58          32.91          18.04  \n",
      "3           231.45         122.40          66.90          37.20          20.88  \n",
      "4           118.32          48.68          20.42           8.63           3.66  \n",
      "..             ...            ...            ...            ...            ...  \n",
      "706         524.27         370.16         274.98         211.08         165.73  \n",
      "707         644.39         485.70         385.95         317.52         267.70  \n",
      "708         410.62         266.98         181.85         127.46          91.03  \n",
      "709         464.51         315.02         224.36         164.80         123.59  \n",
      "710        1718.36        1621.52        1574.94        1551.56        1539.56  \n",
      "\n",
      "[711 rows x 10 columns]\n"
     ]
    }
   ],
   "source": [
    "future_value = 142800\n",
    "#num_years = 30\n",
    "performance_query = '''SELECT p_ten_yr, ticker FROM public.etfs_lowrisk \n",
    "                        WHERE p_ten_yr IS NOT NULL\n",
    "                        --ORDER BY p_ten_yr ASC  \n",
    "                        --LIMIT 1;'''\n",
    "\n",
    "Amount_to_invest_data = get_dataframe(performance_query)\n",
    "\n",
    "#annual to monthly performance\n",
    "Amount_to_invest_data['Monthly_Performance'] = (1 + (Amount_to_invest_data['p_ten_yr'])/100) ** (1/12) - 1\n",
    "\n",
    "# number of months (30 years * 12 months)\n",
    "#num_months = num_years * 12\n",
    "\n",
    "# future value after 30 years\n",
    "\n",
    "for num in range(7,38,5):\n",
    "    # number of months (30 years * 12 months)\n",
    "    num_months = num * 12\n",
    "    monthly_amounts=[]\n",
    "    for index, row in Amount_to_invest_data.iterrows():\n",
    "        monthly_amount = future_value * row['Monthly_Performance'] / ((1 + row['Monthly_Performance']) ** num_months - 1)\n",
    "        monthly_amounts.append(monthly_amount)\n",
    "    col_name = 'MIA_' + str(num) + '_' + str(future_value)\n",
    "    Amount_to_invest_data[col_name] = monthly_amounts\n",
    "    Amount_to_invest_data[col_name] = Amount_to_invest_data[col_name].round(2)\n",
    "print(Amount_to_invest_data)\n",
    "    #print(f\"Predicted future value for entry {index}: {future_value:.2f} Euros\")\n",
    "#etf_data['ROI_16'] = future_values\n",
    "#etf_data['ROI_16'] = etf_data['ROI_16'].round(2)"
   ]
  },
  {
   "cell_type": "code",
   "execution_count": 6,
   "metadata": {},
   "outputs": [
    {
     "name": "stdout",
     "output_type": "stream",
     "text": [
      "     p_ten_yr ticker  Yearly_Performance  MIA_7_142800  MIA_12_142800  \\\n",
      "0       12.48    SPY              0.1248      13946.31        5746.75   \n",
      "1       12.54    IVV              0.1254      13920.55        5725.77   \n",
      "2       12.55    VOO              0.1255      13916.27        5722.28   \n",
      "3       11.98    VTI              0.1198      14162.73        5924.38   \n",
      "4       18.66    QQQ              0.1866      11523.77        3923.18   \n",
      "..        ...    ...                 ...           ...            ...   \n",
      "706      3.32   CHII              0.0332      18456.56        9880.43   \n",
      "707      0.97   EEMO              0.0097      19814.00       11278.41   \n",
      "708      6.00   KFYP              0.0600      17012.48        8464.76   \n",
      "709      4.66   CHIM              0.0466      17720.98        9149.52   \n",
      "710    -12.10   ERUS             -0.1210      29061.29       21948.26   \n",
      "\n",
      "     MIA_17_142800  MIA_22_142800  MIA_27_142800  MIA_32_142800  MIA_37_142800  \n",
      "0          2791.66        1449.60         777.04         423.38         232.70  \n",
      "1          2775.85        1438.22         769.14         418.05         229.19  \n",
      "2          2773.22        1436.33         767.83         417.17         228.61  \n",
      "3          2926.74        1547.78         845.97         470.40         264.02  \n",
      "4          1537.55         632.61         265.29         112.13          47.55  \n",
      "..             ...            ...            ...            ...            ...  \n",
      "706        6386.44        4509.06        3349.69        2571.28        2018.90  \n",
      "707        7767.03        5854.26        4651.97        3827.13        3226.71  \n",
      "708        5061.52        3290.91        2241.56        1571.13        1122.04  \n",
      "709        5692.14        3860.34        2749.31        2019.45        1514.55  \n",
      "710       19450.17       18353.99       17826.79       17562.08       17426.30  \n",
      "\n",
      "[711 rows x 10 columns]\n"
     ]
    }
   ],
   "source": [
    "future_value = 142800\n",
    "#num_years = 30\n",
    "performance_query = '''SELECT p_ten_yr, ticker FROM public.etfs_lowrisk \n",
    "                        WHERE p_ten_yr IS NOT NULL\n",
    "                        --ORDER BY p_ten_yr ASC  \n",
    "                        --LIMIT 1;'''\n",
    "\n",
    "Amount_to_invest_data = get_dataframe(performance_query)\n",
    "\n",
    "#annual to monthly performance\n",
    "Amount_to_invest_data['Yearly_Performance'] =  Amount_to_invest_data['p_ten_yr']/100\n",
    "\n",
    "# number of months (30 years * 12 months)\n",
    "#num_months = num_years * 12\n",
    "\n",
    "# future value after 30 years\n",
    "\n",
    "for num in range(7,38,5):\n",
    "    # number of months (30 years * 12 months)\n",
    "    num_months = num * 12\n",
    "    monthly_amounts=[]\n",
    "    for index, row in Amount_to_invest_data.iterrows():\n",
    "        monthly_amount = future_value * row['Yearly_Performance'] / ((1 + row['Yearly_Performance']) ** num- 1)\n",
    "        monthly_amounts.append(monthly_amount)\n",
    "    col_name = 'MIA_' + str(num) + '_' + str(future_value)\n",
    "    Amount_to_invest_data[col_name] = monthly_amounts\n",
    "    Amount_to_invest_data[col_name] = Amount_to_invest_data[col_name].round(2)\n",
    "print(Amount_to_invest_data)\n",
    "    #print(f\"Predicted future value for entry {index}: {future_value:.2f} Euros\")\n",
    "#etf_data['ROI_16'] = future_values\n",
    "#etf_data['ROI_16'] = etf_data['ROI_16'].round(2)"
   ]
  },
  {
   "cell_type": "code",
   "execution_count": 10,
   "metadata": {},
   "outputs": [],
   "source": [
    "from sql_functions import get_engine\n",
    "engine = get_engine()"
   ]
  },
  {
   "cell_type": "code",
   "execution_count": 11,
   "metadata": {},
   "outputs": [],
   "source": [
    "# Set the schema to your course name and the table_name variable to 'carriers_' + your initials/group number\n",
    "\n",
    "schema = 'public' # your course schema name, example 'hh_analytics_22_1\n",
    "table_name = 'etf_lowrisk_ROI_monthly_investment' # Example: 'carriers_pw' for Philipp Wendt"
   ]
  },
  {
   "cell_type": "code",
   "execution_count": 12,
   "metadata": {},
   "outputs": [
    {
     "name": "stdout",
     "output_type": "stream",
     "text": [
      "The etf_lowrisk_ROI_monthly_investment table was imported successfully.\n"
     ]
    }
   ],
   "source": [
    "# Write records stored in a dataframe to SQL database\n",
    "if engine!=None:\n",
    "    try:\n",
    "        Amount_to_invest_data.to_sql(name=table_name, # Name of SQL table variable\n",
    "                        con= engine, # Engine or connection\n",
    "                        schema= schema, # your class schema variable\n",
    "                        if_exists='replace', # Drop the table before inserting new values \n",
    "                        index=False, # Write DataFrame index as a column\n",
    "                        chunksize=5000, # Specify the number of rows in each batch to be written at a time\n",
    "                        method='multi') # Pass multiple values in a single INSERT clause\n",
    "        print(f\"The {table_name} table was imported successfully.\")\n",
    "    # Error handling\n",
    "    except (Exception, psycopg2.DatabaseError) as error:\n",
    "        print(error)\n",
    "        engine = None\n",
    "else:\n",
    "    print('No engine')"
   ]
  },
  {
   "cell_type": "code",
   "execution_count": 1,
   "metadata": {},
   "outputs": [
    {
     "name": "stdout",
     "output_type": "stream",
     "text": [
      "Future value after 7 years: $106.44\n"
     ]
    }
   ],
   "source": [
    "def calculate_future_value(initial_investment, monthly_contribution, annual_return, expense_ratio, investment_duration_years):\n",
    "    monthly_return = (1 + annual_return) ** (1/12) - 1\n",
    "    total_months = investment_duration_years * 12\n",
    "    total_investment = initial_investment + (monthly_contribution * total_months)\n",
    "    \n",
    "    for month in range(total_months):\n",
    "        total_investment *= (1 + monthly_return)\n",
    "        total_investment *= (1 - expense_ratio)\n",
    "    \n",
    "    return total_investment\n",
    "\n",
    "# Example usage\n",
    "initial_investment = 0\n",
    "monthly_contribution = 1534\n",
    "annual_return = 0.1248  # 8% annual return\n",
    "expense_ratio = 0.09 # 0.5% annual expense ratio\n",
    "investment_duration_years = 7\n",
    "\n",
    "future_value = calculate_future_value(initial_investment, monthly_contribution, annual_return, expense_ratio, investment_duration_years)\n",
    "print(f\"Future value after {investment_duration_years} years: ${future_value:.2f}\")\n"
   ]
  }
 ],
 "metadata": {
  "kernelspec": {
   "display_name": "nf_sql",
   "language": "python",
   "name": "python3"
  },
  "language_info": {
   "codemirror_mode": {
    "name": "ipython",
    "version": 3
   },
   "file_extension": ".py",
   "mimetype": "text/x-python",
   "name": "python",
   "nbconvert_exporter": "python",
   "pygments_lexer": "ipython3",
   "version": "3.9.16"
  },
  "orig_nbformat": 4
 },
 "nbformat": 4,
 "nbformat_minor": 2
}
