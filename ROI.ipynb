{
 "cells": [
  {
   "cell_type": "code",
   "execution_count": 12,
   "metadata": {},
   "outputs": [],
   "source": [
    "import pandas as pd\n",
    "import numpy as np\n",
    "import statsmodels.api as sm\n",
    "from statsmodels.tsa.stattools import adfuller\n",
    "import matplotlib.pyplot as plt"
   ]
  },
  {
   "cell_type": "code",
   "execution_count": 13,
   "metadata": {},
   "outputs": [],
   "source": [
    "from sql_functions import get_dataframe"
   ]
  },
  {
   "cell_type": "code",
   "execution_count": null,
   "metadata": {},
   "outputs": [],
   "source": [
    "etfs_sql = 'SELECT * FROM public.etfs_lowrisk'\n",
    "\n",
    "etfs = get_dataframe(etfs_sql)"
   ]
  },
  {
   "cell_type": "code",
   "execution_count": null,
   "metadata": {},
   "outputs": [],
   "source": [
    "correlation = etfs['efficiency'].corr(etfs['carbon_intensity'])\n",
    "correlation"
   ]
  },
  {
   "cell_type": "code",
   "execution_count": null,
   "metadata": {},
   "outputs": [],
   "source": [
    "etfs_performance = '''SELECT AVG(p_five_yr),\n",
    "\t   sub_segment\n",
    "FROM public.etfs_lowrisk \n",
    "GROUP BY sub_segment \n",
    "HAVING AVG(p_five_yr) IS NOT NULL\n",
    "ORDER BY avg(p_five_yr) DESC  \n",
    "LIMIT 10;'''"
   ]
  },
  {
   "cell_type": "code",
   "execution_count": null,
   "metadata": {},
   "outputs": [],
   "source": [
    "# Plot the data\n",
    "plt.figure(figsize=(10, 6))\n",
    "plt.bar(etfs['sub_segment'], etfs_performance)\n",
    "plt.xlabel('Sub Segment')\n",
    "plt.ylabel('Average 5-Year Return')\n",
    "plt.title('Top 10 Sub Segments by Average 5-Year Return')\n",
    "plt.xticks(rotation=45, ha='right')\n",
    "plt.tight_layout()\n",
    "plt.show()"
   ]
  },
  {
   "cell_type": "code",
   "execution_count": null,
   "metadata": {},
   "outputs": [],
   "source": []
  },
  {
   "cell_type": "code",
   "execution_count": null,
   "metadata": {},
   "outputs": [],
   "source": [
    "monthly_investment = int(input(\"Enter your monthly investment \"))\n",
    "num_years = int(input(\"Enter the years you want to invest: \"))\n",
    "\n",
    "performance_query = '''SELECT p_ten_yr, ticker FROM public.etfs_lowrisk \n",
    "                        WHERE p_ten_yr IS NOT NULL\n",
    "                        --ORDER BY p_ten_yr ASC  \n",
    "                        --LIMIT 1;'''\n",
    "\n",
    "etf_data = get_dataframe(performance_query)\n",
    "\n",
    "#annual to monthly performance\n",
    "etf_data['Monthly_Performance'] = (1 + (etf_data['p_ten_yr'])/100) ** (1/12) - 1\n",
    "\n",
    "# number of months (30 years * 12 months)\n",
    "num_months = num_years * 12\n",
    "\n",
    "# future value after 30 years\n",
    "future_values=[]\n",
    "for index, row in etf_data.iterrows():\n",
    "    print(index,row)\n",
    "    future_value = monthly_investment * ((1 + row['Monthly_Performance']) ** num_months - 1) / row['Monthly_Performance']\n",
    "    future_values.append(future_value)\n",
    "print(future_values)\n",
    "    #print(f\"Predicted future value for entry {index}: {future_value:.2f} Euros\")\n",
    "etf_data['ROI_16'] = future_values\n",
    "etf_data['ROI_16'] = etf_data['ROI_16'].round(2)"
   ]
  },
  {
   "cell_type": "code",
   "execution_count": null,
   "metadata": {},
   "outputs": [],
   "source": [
    "performance_query = '''SELECT p_ten_yr, ticker FROM public.etfs_lowrisk \n",
    "                        WHERE p_ten_yr IS NOT NULL\n",
    "                        --ORDER BY p_ten_yr ASC  \n",
    "                        --LIMIT 1;'''\n",
    "\n",
    "etf_data = get_dataframe(performance_query)\n",
    "\n",
    "etf_data['Monthly_Performance'] = (1 + (etf_data['p_ten_yr'])/100) ** (1/12) - 1\n",
    "etf_data['ROI_16'] = 100 * ((1 + row['Monthly_Performance']) ** 12*16 - 1) / row['Monthly_Performance']"
   ]
  },
  {
   "cell_type": "code",
   "execution_count": null,
   "metadata": {},
   "outputs": [],
   "source": [
    "etf_data\n"
   ]
  },
  {
   "cell_type": "code",
   "execution_count": null,
   "metadata": {},
   "outputs": [],
   "source": [
    "etf_data"
   ]
  },
  {
   "cell_type": "code",
   "execution_count": null,
   "metadata": {},
   "outputs": [],
   "source": [
    "et"
   ]
  },
  {
   "cell_type": "code",
   "execution_count": null,
   "metadata": {},
   "outputs": [],
   "source": [
    "etf_data['ROI'].max()"
   ]
  },
  {
   "cell_type": "code",
   "execution_count": null,
   "metadata": {},
   "outputs": [],
   "source": [
    "from sql_functions import get_engine\n",
    "engine = get_engine()"
   ]
  },
  {
   "cell_type": "code",
   "execution_count": null,
   "metadata": {},
   "outputs": [],
   "source": [
    "# Set the schema to your course name and the table_name variable to 'carriers_' + your initials/group number\n",
    "\n",
    "schema = 'public' # your course schema name, example 'hh_analytics_22_1\n",
    "table_name = 'etf_lowrisk_ROI_monthly_investment' # Example: 'carriers_pw' for Philipp Wendt"
   ]
  },
  {
   "cell_type": "code",
   "execution_count": null,
   "metadata": {},
   "outputs": [],
   "source": [
    "# Write records stored in a dataframe to SQL database\n",
    "if engine!=None:\n",
    "    try:\n",
    "        Amount_to_invest_data.to_sql(name=table_name, # Name of SQL table variable\n",
    "                        con= engine, # Engine or connection\n",
    "                        schema= schema, # your class schema variable\n",
    "                        if_exists='replace', # Drop the table before inserting new values \n",
    "                        index=False, # Write DataFrame index as a column\n",
    "                        chunksize=5000, # Specify the number of rows in each batch to be written at a time\n",
    "                        method='multi') # Pass multiple values in a single INSERT clause\n",
    "        print(f\"The {table_name} table was imported successfully.\")\n",
    "    # Error handling\n",
    "    except (Exception, psycopg2.DatabaseError) as error:\n",
    "        print(error)\n",
    "        engine = None\n",
    "else:\n",
    "    print('No engine')"
   ]
  },
  {
   "cell_type": "code",
   "execution_count": null,
   "metadata": {},
   "outputs": [],
   "source": [
    "etf_data.shape"
   ]
  },
  {
   "cell_type": "code",
   "execution_count": 15,
   "metadata": {},
   "outputs": [
    {
     "name": "stdout",
     "output_type": "stream",
     "text": [
      "     p_ten_yr ticker  Monthly_Performance        ROI_56        ROI_57\n",
      "0       24.95    SMH             0.018735  1.394981e+09  1.743030e+09\n",
      "1        1.47    BND             0.001217  1.038910e+05  1.066262e+05\n",
      "2       14.57    VUG             0.011399  1.781909e+07  2.041662e+07\n",
      "3        9.61    VAW             0.007676  2.207641e+06  2.421047e+06\n",
      "4        1.45    AGG             0.001200  1.032437e+05  1.059487e+05\n",
      "..        ...    ...                  ...           ...           ...\n",
      "706      5.28    VEA             0.004297  3.918786e+05  4.137985e+05\n",
      "707     10.27    VTV             0.008180  2.904229e+06  3.203749e+06\n",
      "708      5.25   IEFA             0.004273  3.874562e+05  4.090262e+05\n",
      "709     10.23     VO             0.008150  2.856215e+06  3.149661e+06\n",
      "710    -12.10   ERUS            -0.010690  9.347720e+03  9.348550e+03\n",
      "\n",
      "[711 rows x 5 columns]\n"
     ]
    }
   ],
   "source": [
    "monthly_investment = 100\n",
    "#num_years = 30\n",
    "performance_query = '''SELECT p_ten_yr, ticker FROM public.etfs_lowrisk \n",
    "                        WHERE p_ten_yr IS NOT NULL\n",
    "                        --ORDER BY p_ten_yr ASC  \n",
    "                        --LIMIT 1;'''\n",
    "\n",
    "etf_data = get_dataframe(performance_query)\n",
    "\n",
    "#annual to monthly performance\n",
    "etf_data['Monthly_Performance'] = (1 + (etf_data['p_ten_yr'])/100) ** (1/12) - 1\n",
    "\n",
    "# number of months (30 years * 12 months)\n",
    "#num_months = num_years * 12\n",
    "\n",
    "# future value after 30 years\n",
    "\n",
    "for num in range(7,28,5):\n",
    "    # number of months (30 years * 12 months)\n",
    "    num_months = num * 12\n",
    "    future_values=[]\n",
    "    for index, row in etf_data.iterrows():\n",
    "        future_value = monthly_investment * ((1 + row['Monthly_Performance']) ** num_months - 1) / row['Monthly_Performance']\n",
    "        future_values.append(future_value)\n",
    "    col_name = 'ROI_' + str(num)\n",
    "    etf_data[col_name] = future_values\n",
    "    etf_data[col_name] = etf_data[col_name].round(2)\n",
    "print(etf_data)\n",
    "    #print(f\"Predicted future value for entry {index}: {future_value:.2f} Euros\")\n",
    "#etf_data['ROI_16'] = future_values\n",
    "#etf_data['ROI_16'] = etf_data['ROI_16'].round(2)"
   ]
  },
  {
   "cell_type": "code",
   "execution_count": null,
   "metadata": {},
   "outputs": [],
   "source": [
    "monthly_amount = 100\n",
    "\n",
    "performance_query = '''SELECT p_ten_yr, expense_ratio, ticker FROM public.etfs_lowrisk \n",
    "                        WHERE p_ten_yr IS NOT NULL\n",
    "                        --ORDER BY p_ten_yr ASC  \n",
    "                        LIMIT 1;'''\n",
    "\n",
    "etf_data = get_dataframe(performance_query)\n",
    "\n",
    "#annual to monthly performance\n",
    "etf_data['yearly_performance'] = (1 + (etf_data['p_ten_yr'])/100)\n",
    "\n",
    "net_amount = 0\n",
    "for num in range(1,8):\n",
    "    total_net_amounts=[]\n",
    "    for index, row in etf_data.iterrows():\n",
    "        print(net_amount)\n",
    "        yearly_amount = 12* monthly_amount\n",
    "        net_amount = (net_amount + yearly_amount) * row['yearly_performance'] - (net_amount + yearly_amount)*row['expense_ratio']\n",
    "        total_net_amounts.append(net_amount)\n",
    "    col_name = 'test_' + str(num) + '_' + str(monthly_amount)\n",
    "    etf_data[col_name] = total_net_amounts\n",
    "    etf_data[col_name] = etf_data[col_name].round(2)\n",
    "print(etf_data)"
   ]
  },
  {
   "cell_type": "code",
   "execution_count": 5,
   "metadata": {},
   "outputs": [
    {
     "name": "stdout",
     "output_type": "stream",
     "text": [
      "0    1228.2816\n",
      "dtype: float64\n"
     ]
    }
   ],
   "source": [
    "monthly_amount = 100\n",
    "\n",
    "performance_query = '''SELECT p_ten_yr, expense_ratio, ticker FROM public.etfs_lowrisk \n",
    "                        WHERE p_ten_yr IS NOT NULL\n",
    "                        --ORDER BY p_ten_yr ASC  \n",
    "                        LIMIT 1;'''\n",
    "\n",
    "etf_data = get_dataframe(performance_query)\n",
    "\n",
    "\n",
    "#annual to monthly performance\n",
    "etf_data['yearly_performance'] = (1 + (etf_data['p_ten_yr'].astype(float))/100)\n",
    "yearly_amount = 12* monthly_amount\n",
    "net_amount_test = (yearly_amount) * etf_data['yearly_performance'].astype(float) - (yearly_amount)*etf_data['yearly_performance'].astype(float)*etf_data['expense_ratio'].astype(float)\n",
    "print(net_amount_test)"
   ]
  },
  {
   "cell_type": "code",
   "execution_count": 7,
   "metadata": {},
   "outputs": [
    {
     "name": "stdout",
     "output_type": "stream",
     "text": [
      "0    142885.534609\n",
      "1    187508.508873\n",
      "2    187580.974926\n",
      "3    183493.812173\n",
      "4    106164.234403\n",
      "dtype: float64\n"
     ]
    }
   ],
   "source": [
    "\n",
    "monthly_amount = 1548\n",
    "\n",
    "performance_query = '''SELECT p_ten_yr, expense_ratio, ticker FROM public.etfs_lowrisk \n",
    "                        WHERE p_ten_yr IS NOT NULL\n",
    "                        --ORDER BY p_ten_yr ASC  \n",
    "                        LIMIT 5;'''\n",
    "\n",
    "etf_data = get_dataframe(performance_query)\n",
    "net_amount = 0\n",
    "for year in range(7,38,5):\n",
    "    etf_data['yearly_performance'] = (1 + (etf_data['p_ten_yr'].astype(float))/100)\n",
    "    yearly_amount = 12* monthly_amount\n",
    "    #net_amount_test = (yearly_amount) * etf_data['yearly_performance'].astype(float) - (yearly_amount)*etf_data['yearly_performance'].astype(float)*etf_data['expense_ratio'].astype(float)\n",
    "    net_amount = ((yearly_amount + net_amount) * etf_data['yearly_performance'].astype(float)) - ((yearly_amount + net_amount) *etf_data['yearly_performance'].astype(float)*etf_data['expense_ratio'].astype(float))\n",
    "print(net_amount)"
   ]
  },
  {
   "cell_type": "code",
   "execution_count": null,
   "metadata": {},
   "outputs": [],
   "source": [
    "\n",
    "performance_query = '''SELECT p_ten_yr, expense_ratio, ticker FROM public.etfs_lowrisk \n",
    "                        WHERE p_ten_yr IS NOT NULL\n",
    "                        --ORDER BY p_ten_yr ASC  \n",
    "                        LIMIT 5;'''\n",
    "\n",
    "etf_data = get_dataframe(performance_query)\n",
    "net_amount = 0\n",
    "for monthly_amount in range (100,2000,100):\n",
    "    etf_data['yearly_performance'] = (1 + (etf_data['p_ten_yr'].astype(float))/100)\n",
    "    yearly_amount = 12* monthly_amount\n",
    "        #net_amount_test = (yearly_amount) * etf_data['yearly_performance'].astype(float) - (yearly_amount)*etf_data['yearly_performance'].astype(float)*etf_data['expense_ratio'].astype(float)\n",
    "    net_amount = ((yearly_amount + net_amount) * etf_data['yearly_performance'].astype(float)) - ((yearly_amount + net_amount) *etf_data['yearly_performance'].astype(float)*etf_data['expense_ratio'].astype(float))\n",
    "    col_name = 'MIA_' +  '_' + str(monthly_amount)\n",
    "    etf_data[col_name] = net_amount\n",
    "    etf_data[col_name] = etf_data[col_name].round(2)\n",
    "print(etf_data)"
   ]
  },
  {
   "cell_type": "code",
   "execution_count": 11,
   "metadata": {},
   "outputs": [
    {
     "name": "stdout",
     "output_type": "stream",
     "text": [
      "Monthly Amount to Invest: 1277.1345529522678\n"
     ]
    }
   ],
   "source": [
    "future_value = 142800\n",
    "yearly_performance = 0.1248  # Example yearly performance rate of 5%\n",
    "num_years = 7\n",
    "expense_ratio = 0.09  # Example expense ratio of 1%\n",
    "\n",
    "monthly_amount = (future_value * (yearly_performance)) / ((1 + yearly_performance) ** num_years - 1) / (1 - expense_ratio) / 12\n",
    "#yearly_amount = future_value *row['Yearly_Performance'].astype(float) / ((1 + row['Yearly_Performance'].astype(float))) ** num - 1\n",
    "print(\"Monthly Amount to Invest:\", monthly_amount)\n"
   ]
  }
 ],
 "metadata": {
  "kernelspec": {
   "display_name": "nf_sql",
   "language": "python",
   "name": "python3"
  },
  "language_info": {
   "codemirror_mode": {
    "name": "ipython",
    "version": 3
   },
   "file_extension": ".py",
   "mimetype": "text/x-python",
   "name": "python",
   "nbconvert_exporter": "python",
   "pygments_lexer": "ipython3",
   "version": "3.9.16"
  },
  "orig_nbformat": 4
 },
 "nbformat": 4,
 "nbformat_minor": 2
}
