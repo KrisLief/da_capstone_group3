Inflation_data = pd.read_csv('/Users/ismatahmed/neuefische/da_capstone_group3/data/RATEINF-CPI_DEU.csv', delimiter=',', encoding='latin')
Inflation_data.head(5)