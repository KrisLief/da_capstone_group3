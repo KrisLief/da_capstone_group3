{
 "cells": [
  {
   "cell_type": "code",
   "execution_count": 1,
   "metadata": {},
   "outputs": [],
   "source": [
    "import pandas as pd\n",
    "import numpy as np\n",
    "import statsmodels.api as sm\n",
    "from statsmodels.tsa.stattools import adfuller\n",
    "import matplotlib.pyplot as plt"
   ]
  },
  {
   "cell_type": "code",
   "execution_count": 2,
   "metadata": {},
   "outputs": [],
   "source": [
    "from sql_functions import get_dataframe"
   ]
  },
  {
   "cell_type": "code",
   "execution_count": 3,
   "metadata": {},
   "outputs": [],
   "source": [
    "etfs_sql = 'SELECT * FROM public.etf_esg_merged_final_final'\n",
    "\n",
    "etfs = get_dataframe(etfs_sql)"
   ]
  },
  {
   "cell_type": "code",
   "execution_count": 4,
   "metadata": {},
   "outputs": [
    {
     "name": "stdout",
     "output_type": "stream",
     "text": [
      "<class 'pandas.core.series.Series'>\n",
      "RangeIndex: 2183 entries, 0 to 2182\n",
      "Series name: segment\n",
      "Non-Null Count  Dtype \n",
      "--------------  ----- \n",
      "2183 non-null   object\n",
      "dtypes: object(1)\n",
      "memory usage: 17.2+ KB\n"
     ]
    }
   ],
   "source": [
    "etfs.segment.info()"
   ]
  },
  {
   "cell_type": "code",
   "execution_count": 5,
   "metadata": {},
   "outputs": [
    {
     "data": {
      "text/plain": [
       "0                      Equity: U.S.  -  Large Cap\n",
       "1                      Equity: U.S.  -  Large Cap\n",
       "2                      Equity: U.S.  -  Large Cap\n",
       "3                   Equity: U.S.  -  Total Market\n",
       "4                      Equity: U.S.  -  Large Cap\n",
       "                          ...                    \n",
       "2178                      Equity: Global Consumer\n",
       "2179    Asset Allocation: Global - Target Outcome\n",
       "2180                Equity: U.S.  -  Total Market\n",
       "2181              Equity: Russia  -  Total Market\n",
       "2182                      Equity: Global Internet\n",
       "Name: segment, Length: 2183, dtype: object"
      ]
     },
     "execution_count": 5,
     "metadata": {},
     "output_type": "execute_result"
    }
   ],
   "source": [
    "etfs.segment.astype(str)"
   ]
  },
  {
   "cell_type": "code",
   "execution_count": 6,
   "metadata": {},
   "outputs": [],
   "source": [
    "etfs[['mainsegment', 'subsegment']] = etfs.segment.str.split(':', expand=True)\n"
   ]
  },
  {
   "cell_type": "code",
   "execution_count": 7,
   "metadata": {},
   "outputs": [],
   "source": [
    "etf_1 = etfs.iloc[:, [0,1,-2,-1,2,3,4,5,6,7,8,9,10,11,12,13,14,15,16,17,18,19,20,21,22,23,24,25,26,27,28,29,30,31,32,33,34]]"
   ]
  },
  {
   "cell_type": "code",
   "execution_count": 8,
   "metadata": {},
   "outputs": [
    {
     "name": "stderr",
     "output_type": "stream",
     "text": [
      "/var/folders/n7/lhd2kpwd4bn2d3c6l8h4hzsr0000gn/T/ipykernel_16041/3564925083.py:1: SettingWithCopyWarning: \n",
      "A value is trying to be set on a copy of a slice from a DataFrame\n",
      "\n",
      "See the caveats in the documentation: https://pandas.pydata.org/pandas-docs/stable/user_guide/indexing.html#returning-a-view-versus-a-copy\n",
      "  etf_1.drop(['segment','sustainable_impact_exposure', 'score_peer_rank'], axis=1, inplace=True)\n"
     ]
    }
   ],
   "source": [
    "etf_1.drop(['segment','sustainable_impact_exposure', 'score_peer_rank'], axis=1, inplace=True)"
   ]
  },
  {
   "cell_type": "code",
   "execution_count": 11,
   "metadata": {},
   "outputs": [
    {
     "data": {
      "text/html": [
       "<div>\n",
       "<style scoped>\n",
       "    .dataframe tbody tr th:only-of-type {\n",
       "        vertical-align: middle;\n",
       "    }\n",
       "\n",
       "    .dataframe tbody tr th {\n",
       "        vertical-align: top;\n",
       "    }\n",
       "\n",
       "    .dataframe thead th {\n",
       "        text-align: right;\n",
       "    }\n",
       "</style>\n",
       "<table border=\"1\" class=\"dataframe\">\n",
       "  <thead>\n",
       "    <tr style=\"text-align: right;\">\n",
       "      <th></th>\n",
       "      <th>ticker</th>\n",
       "      <th>fund_name</th>\n",
       "      <th>mainsegment</th>\n",
       "      <th>subsegment</th>\n",
       "      <th>one_yr_return</th>\n",
       "      <th>expense_ratio</th>\n",
       "      <th>aum</th>\n",
       "      <th>analyst_pick</th>\n",
       "      <th>grade</th>\n",
       "      <th>efficiency</th>\n",
       "      <th>...</th>\n",
       "      <th>p_five_yr</th>\n",
       "      <th>p_ten_yr</th>\n",
       "      <th>p_as_of_date</th>\n",
       "      <th>esg_rating</th>\n",
       "      <th>quality_score_10</th>\n",
       "      <th>score_global_rank</th>\n",
       "      <th>sri_screening_criteria_exposure_%</th>\n",
       "      <th>carbon_intensity</th>\n",
       "      <th>mainsegment</th>\n",
       "      <th>subsegment</th>\n",
       "    </tr>\n",
       "  </thead>\n",
       "  <tbody>\n",
       "    <tr>\n",
       "      <th>0</th>\n",
       "      <td>SPY</td>\n",
       "      <td>SPDR S&amp;P 500 ETF Trust</td>\n",
       "      <td>Equity</td>\n",
       "      <td>U.S.  -  Large Cap</td>\n",
       "      <td>17.03</td>\n",
       "      <td>0.09</td>\n",
       "      <td>4.259800e+11</td>\n",
       "      <td>True</td>\n",
       "      <td>A</td>\n",
       "      <td>99.0</td>\n",
       "      <td>...</td>\n",
       "      <td>11.79</td>\n",
       "      <td>12.48</td>\n",
       "      <td>2023-07-25</td>\n",
       "      <td>A</td>\n",
       "      <td>6.68</td>\n",
       "      <td>58.71</td>\n",
       "      <td>9.75</td>\n",
       "      <td>122.31</td>\n",
       "      <td>Equity</td>\n",
       "      <td>U.S.  -  Large Cap</td>\n",
       "    </tr>\n",
       "    <tr>\n",
       "      <th>1</th>\n",
       "      <td>IVV</td>\n",
       "      <td>iShares Core S&amp;P 500 ETF</td>\n",
       "      <td>Equity</td>\n",
       "      <td>U.S.  -  Large Cap</td>\n",
       "      <td>17.08</td>\n",
       "      <td>0.03</td>\n",
       "      <td>3.516200e+11</td>\n",
       "      <td>True</td>\n",
       "      <td>A</td>\n",
       "      <td>100.0</td>\n",
       "      <td>...</td>\n",
       "      <td>11.82</td>\n",
       "      <td>12.54</td>\n",
       "      <td>2023-07-25</td>\n",
       "      <td>A</td>\n",
       "      <td>6.68</td>\n",
       "      <td>58.67</td>\n",
       "      <td>9.67</td>\n",
       "      <td>122.41</td>\n",
       "      <td>Equity</td>\n",
       "      <td>U.S.  -  Large Cap</td>\n",
       "    </tr>\n",
       "    <tr>\n",
       "      <th>2</th>\n",
       "      <td>VOO</td>\n",
       "      <td>Vanguard 500 Index Fund</td>\n",
       "      <td>Equity</td>\n",
       "      <td>U.S.  -  Large Cap</td>\n",
       "      <td>17.09</td>\n",
       "      <td>0.03</td>\n",
       "      <td>3.363100e+11</td>\n",
       "      <td>True</td>\n",
       "      <td>A</td>\n",
       "      <td>99.0</td>\n",
       "      <td>...</td>\n",
       "      <td>11.82</td>\n",
       "      <td>12.55</td>\n",
       "      <td>2023-07-25</td>\n",
       "      <td>A</td>\n",
       "      <td>6.68</td>\n",
       "      <td>58.75</td>\n",
       "      <td>9.76</td>\n",
       "      <td>122.47</td>\n",
       "      <td>Equity</td>\n",
       "      <td>U.S.  -  Large Cap</td>\n",
       "    </tr>\n",
       "    <tr>\n",
       "      <th>3</th>\n",
       "      <td>VTI</td>\n",
       "      <td>Vanguard Total Stock Market ETF</td>\n",
       "      <td>Equity</td>\n",
       "      <td>U.S.  -  Total Market</td>\n",
       "      <td>16.46</td>\n",
       "      <td>0.03</td>\n",
       "      <td>3.196800e+11</td>\n",
       "      <td>True</td>\n",
       "      <td>A</td>\n",
       "      <td>99.0</td>\n",
       "      <td>...</td>\n",
       "      <td>10.98</td>\n",
       "      <td>11.98</td>\n",
       "      <td>2023-07-25</td>\n",
       "      <td>A</td>\n",
       "      <td>6.52</td>\n",
       "      <td>52.51</td>\n",
       "      <td>8.86</td>\n",
       "      <td>122.61</td>\n",
       "      <td>Equity</td>\n",
       "      <td>U.S.  -  Total Market</td>\n",
       "    </tr>\n",
       "    <tr>\n",
       "      <th>4</th>\n",
       "      <td>QQQ</td>\n",
       "      <td>Invesco QQQ Trust</td>\n",
       "      <td>Equity</td>\n",
       "      <td>U.S.  -  Large Cap</td>\n",
       "      <td>27.05</td>\n",
       "      <td>0.20</td>\n",
       "      <td>2.093000e+11</td>\n",
       "      <td>True</td>\n",
       "      <td>A</td>\n",
       "      <td>97.0</td>\n",
       "      <td>...</td>\n",
       "      <td>16.50</td>\n",
       "      <td>18.66</td>\n",
       "      <td>2023-07-25</td>\n",
       "      <td>A</td>\n",
       "      <td>6.70</td>\n",
       "      <td>59.94</td>\n",
       "      <td>8.36</td>\n",
       "      <td>47.01</td>\n",
       "      <td>Equity</td>\n",
       "      <td>U.S.  -  Large Cap</td>\n",
       "    </tr>\n",
       "  </tbody>\n",
       "</table>\n",
       "<p>5 rows × 34 columns</p>\n",
       "</div>"
      ],
      "text/plain": [
       "  ticker                        fund_name mainsegment              subsegment  \\\n",
       "0    SPY           SPDR S&P 500 ETF Trust      Equity      U.S.  -  Large Cap   \n",
       "1    IVV         iShares Core S&P 500 ETF      Equity      U.S.  -  Large Cap   \n",
       "2    VOO          Vanguard 500 Index Fund      Equity      U.S.  -  Large Cap   \n",
       "3    VTI  Vanguard Total Stock Market ETF      Equity   U.S.  -  Total Market   \n",
       "4    QQQ                Invesco QQQ Trust      Equity      U.S.  -  Large Cap   \n",
       "\n",
       "   one_yr_return  expense_ratio           aum  analyst_pick grade  efficiency  \\\n",
       "0          17.03           0.09  4.259800e+11          True     A        99.0   \n",
       "1          17.08           0.03  3.516200e+11          True     A       100.0   \n",
       "2          17.09           0.03  3.363100e+11          True     A        99.0   \n",
       "3          16.46           0.03  3.196800e+11          True     A        99.0   \n",
       "4          27.05           0.20  2.093000e+11          True     A        97.0   \n",
       "\n",
       "   ...  p_five_yr  p_ten_yr  p_as_of_date  esg_rating  quality_score_10  \\\n",
       "0  ...      11.79     12.48    2023-07-25           A              6.68   \n",
       "1  ...      11.82     12.54    2023-07-25           A              6.68   \n",
       "2  ...      11.82     12.55    2023-07-25           A              6.68   \n",
       "3  ...      10.98     11.98    2023-07-25           A              6.52   \n",
       "4  ...      16.50     18.66    2023-07-25           A              6.70   \n",
       "\n",
       "   score_global_rank  sri_screening_criteria_exposure_% carbon_intensity  \\\n",
       "0              58.71                               9.75           122.31   \n",
       "1              58.67                               9.67           122.41   \n",
       "2              58.75                               9.76           122.47   \n",
       "3              52.51                               8.86           122.61   \n",
       "4              59.94                               8.36            47.01   \n",
       "\n",
       "  mainsegment              subsegment  \n",
       "0      Equity      U.S.  -  Large Cap  \n",
       "1      Equity      U.S.  -  Large Cap  \n",
       "2      Equity      U.S.  -  Large Cap  \n",
       "3      Equity   U.S.  -  Total Market  \n",
       "4      Equity      U.S.  -  Large Cap  \n",
       "\n",
       "[5 rows x 34 columns]"
      ]
     },
     "execution_count": 11,
     "metadata": {},
     "output_type": "execute_result"
    }
   ],
   "source": [
    "etf_1.head(5)"
   ]
  },
  {
   "cell_type": "code",
   "execution_count": 15,
   "metadata": {},
   "outputs": [
    {
     "ename": "IndexError",
     "evalue": "DataFrame indexer is not allowed for .iloc\nConsider using .loc for automatic alignment.",
     "output_type": "error",
     "traceback": [
      "\u001b[0;31m---------------------------------------------------------------------------\u001b[0m",
      "\u001b[0;31mIndexError\u001b[0m                                Traceback (most recent call last)",
      "Cell \u001b[0;32mIn[15], line 4\u001b[0m\n\u001b[1;32m      1\u001b[0m Options \u001b[39m=\u001b[39m [\u001b[39m'\u001b[39m\u001b[39mLeveraged Equity\u001b[39m\u001b[39m'\u001b[39m, \u001b[39m'\u001b[39m\u001b[39mInverse Equity\u001b[39m\u001b[39m'\u001b[39m]\n\u001b[1;32m      3\u001b[0m \u001b[39m# Filtering the DataFrame\u001b[39;00m\n\u001b[0;32m----> 4\u001b[0m etf_1\u001b[39m.\u001b[39;49miloc[\u001b[39m~\u001b[39;49metf_1[\u001b[39m'\u001b[39;49m\u001b[39mmainsegment\u001b[39;49m\u001b[39m'\u001b[39;49m]\u001b[39m.\u001b[39;49misin(Options)]\n\u001b[1;32m      5\u001b[0m etf_1\u001b[39m.\u001b[39mdrop(inplace\u001b[39m=\u001b[39m \u001b[39mTrue\u001b[39;00m, axis\u001b[39m=\u001b[39m \u001b[39m0\u001b[39m)\n",
      "File \u001b[0;32m/opt/homebrew/Caskroom/miniconda/base/envs/nf_sql/lib/python3.9/site-packages/pandas/core/indexing.py:1073\u001b[0m, in \u001b[0;36m_LocationIndexer.__getitem__\u001b[0;34m(self, key)\u001b[0m\n\u001b[1;32m   1070\u001b[0m axis \u001b[39m=\u001b[39m \u001b[39mself\u001b[39m\u001b[39m.\u001b[39maxis \u001b[39mor\u001b[39;00m \u001b[39m0\u001b[39m\n\u001b[1;32m   1072\u001b[0m maybe_callable \u001b[39m=\u001b[39m com\u001b[39m.\u001b[39mapply_if_callable(key, \u001b[39mself\u001b[39m\u001b[39m.\u001b[39mobj)\n\u001b[0;32m-> 1073\u001b[0m \u001b[39mreturn\u001b[39;00m \u001b[39mself\u001b[39;49m\u001b[39m.\u001b[39;49m_getitem_axis(maybe_callable, axis\u001b[39m=\u001b[39;49maxis)\n",
      "File \u001b[0;32m/opt/homebrew/Caskroom/miniconda/base/envs/nf_sql/lib/python3.9/site-packages/pandas/core/indexing.py:1596\u001b[0m, in \u001b[0;36m_iLocIndexer._getitem_axis\u001b[0;34m(self, key, axis)\u001b[0m\n\u001b[1;32m   1594\u001b[0m     key \u001b[39m=\u001b[39m \u001b[39mslice\u001b[39m(\u001b[39mNone\u001b[39;00m)\n\u001b[1;32m   1595\u001b[0m \u001b[39melif\u001b[39;00m \u001b[39misinstance\u001b[39m(key, ABCDataFrame):\n\u001b[0;32m-> 1596\u001b[0m     \u001b[39mraise\u001b[39;00m \u001b[39mIndexError\u001b[39;00m(\n\u001b[1;32m   1597\u001b[0m         \u001b[39m\"\u001b[39m\u001b[39mDataFrame indexer is not allowed for .iloc\u001b[39m\u001b[39m\\n\u001b[39;00m\u001b[39m\"\u001b[39m\n\u001b[1;32m   1598\u001b[0m         \u001b[39m\"\u001b[39m\u001b[39mConsider using .loc for automatic alignment.\u001b[39m\u001b[39m\"\u001b[39m\n\u001b[1;32m   1599\u001b[0m     )\n\u001b[1;32m   1601\u001b[0m \u001b[39mif\u001b[39;00m \u001b[39misinstance\u001b[39m(key, \u001b[39mslice\u001b[39m):\n\u001b[1;32m   1602\u001b[0m     \u001b[39mreturn\u001b[39;00m \u001b[39mself\u001b[39m\u001b[39m.\u001b[39m_get_slice_axis(key, axis\u001b[39m=\u001b[39maxis)\n",
      "\u001b[0;31mIndexError\u001b[0m: DataFrame indexer is not allowed for .iloc\nConsider using .loc for automatic alignment."
     ]
    }
   ],
   "source": [
    "Options = ['Leveraged Equity', 'Inverse Equity']\n",
    "\n",
    "# Filtering the DataFrame\n",
    "etf_1.iloc[~etf_1['mainsegment'].isin(Options)]\n",
    "etf_1.drop(inplace= True, axis= 0)\n",
    "\n"
   ]
  },
  {
   "cell_type": "code",
   "execution_count": null,
   "metadata": {},
   "outputs": [],
   "source": [
    "etf_1.head(10)"
   ]
  },
  {
   "cell_type": "code",
   "execution_count": 16,
   "metadata": {},
   "outputs": [
    {
     "data": {
      "text/plain": [
       "<Axes: >"
      ]
     },
     "execution_count": 16,
     "metadata": {},
     "output_type": "execute_result"
    },
    {
     "data": {
      "image/png": "[encoded data removed]",
      "text/plain": [
       "<Figure size 640x480 with 1 Axes>"
      ]
     },
     "metadata": {},
     "output_type": "display_data"
    }
   ],
   "source": [
    "etfs.carbon_intensity.plot(kind='box')"
   ]
  }
 ],
 "metadata": {
  "kernelspec": {
   "display_name": "nf_sql",
   "language": "python",
   "name": "python3"
  },
  "language_info": {
   "codemirror_mode": {
    "name": "ipython",
    "version": 3
   },
   "file_extension": ".py",
   "mimetype": "text/x-python",
   "name": "python",
   "nbconvert_exporter": "python",
   "pygments_lexer": "ipython3",
   "version": "3.9.16"
  },
  "orig_nbformat": 4
 },
 "nbformat": 4,
 "nbformat_minor": 2
}
